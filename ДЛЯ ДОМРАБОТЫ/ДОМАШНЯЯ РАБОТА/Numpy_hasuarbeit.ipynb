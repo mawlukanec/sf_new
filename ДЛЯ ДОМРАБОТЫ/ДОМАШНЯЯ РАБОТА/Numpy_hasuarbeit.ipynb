{
 "cells": [
  {
   "cell_type": "markdown",
   "metadata": {},
   "source": [
    "Дан список из кортежей temps. На первом месте в кортеже указан год в виде строки, а на втором — средняя температура января в Петербурге в указанном году.\n",
    "\n",
    "Напишите функцию check(temps), которая будет выводить словарь, в котором ключи — годы, а значения — показатели температуры. Ключи необходимо отсортировать в порядке убывания соответствующих им температур.\n",
    "\n",
    "Пример списка temps:\n",
    "\n",
    "temps = [('2000', -4.4), ('2001', -2.5), ('2002', -4.4), ('2003', -9.5)]\n",
    "\n",
    "Пример вывода:\n",
    "\n",
    "OrderedDict([('2001', -2.5), ('2000', -4.4), ('2002', -4.4), ('2003', -9.5)])"
   ]
  },
  {
   "cell_type": "code",
   "execution_count": 4,
   "metadata": {},
   "outputs": [],
   "source": [
    "from collections import OrderedDict\n",
    "temps = [('2000', -4.4), ('2001', -2.5), ('2002', -4.4), ('2003', -9.5)]\n",
    "def check(temps):\n",
    "    c = OrderedDict(sorted(temps, key = lambda x: x[1], reverse = True))\n",
    "    #od = OrderedDict(c)\n",
    "    #od = str(od)\n",
    "    print(c)"
   ]
  },
  {
   "cell_type": "markdown",
   "metadata": {},
   "source": [
    "Напишите функцию brackets(line), которая определяет, является ли последовательность из круглых скобок line правильной.\n",
    "\n",
    "Примечание 1. Какая последовательность скобок правильная?\n",
    "\n",
    "Правильной скобочной последовательностью назовём такую последовательность скобок, в которой для каждой открывающей скобки есть последующая соответствующая ей закрывающая скобка. Соответственно, остальные скобочные последовательности назовём неправильными. Пустую строку будем считать правильной последовательностью.\n",
    "\n",
    "Примечание 2.Для решения этой задачи потребуется использовать стек.\n",
    "\n",
    "Посимвольно переберите строку. Если встретилась открывающаяся скобка, положите её в стек. Если встретилась закрывающаяся скобка, извлеките скобку из стека.\n",
    "\n",
    "Если стек пустой, то есть извлечь скобку нельзя, последовательность неправильная.\n",
    "Если строка закончилась и стек стал пустым, последовательность правильная.\n",
    "Если в стеке остались скобки, последовательность неправильная.\n",
    "Пример\n",
    "\n",
    "\n",
    "print(brackets(\"(()())\"))\n",
    "# True\n",
    "print(brackets(\"\"))\n",
    "# True\n",
    "print(brackets(\"(()()))\"))\n",
    "# False"
   ]
  },
  {
   "cell_type": "code",
   "execution_count": 6,
   "metadata": {},
   "outputs": [
    {
     "name": "stdout",
     "output_type": "stream",
     "text": [
      "True\n"
     ]
    }
   ],
   "source": [
    "from collections import deque\n",
    "\n",
    "def brackets(line):\n",
    "    temp = deque()\n",
    "   \n",
    "    for symbol in line:\n",
    "        if symbol =='(' :\n",
    "            temp.append(symbol)             \n",
    "        elif symbol == ')' and len(temp) > 0:\n",
    "            del temp[0]         \n",
    "        elif symbol == ')' and len(temp) == 0:\n",
    "            return False\n",
    "    if len(temp) == 0:\n",
    "        return True\n",
    "    else:\n",
    "        return False\n",
    "print(brackets(\"(()())\"))"
   ]
  },
  {
   "cell_type": "markdown",
   "metadata": {},
   "source": [
    "Дан список кортежей ratings с рейтингами кафе. Кортеж состоит из названия и рейтинга кафе.\n",
    "\n",
    "Необходимо отсортировать кортеж по убыванию рейтинга. Если рейтинги совпадают, то отсортировать кафе дополнительно по названию в алфавитном порядке.\n",
    "\n",
    "Получите словарь cafes с упорядоченными ключами из отсортированного списка, где ключи — названия кафе, а значения — их рейтинг.\n",
    "ratings = [('Old York', 3.3), ('New Age', 4.6), ('Old Gold', 3.3), ('General Foods', 4.8),\n",
    "           ('Belissimo', 4.5), ('CakeAndCoffee', 4.2), ('CakeOClock', 4.2), ('CakeTime', 4.1),\n",
    "           ('WokToWork', 4.9), ('WokAndRice', 4.9), ('Old Wine Cellar', 3.3), ('Nice Cakes', 3.9)]\n"
   ]
  },
  {
   "cell_type": "code",
   "execution_count": null,
   "metadata": {},
   "outputs": [],
   "source": [
    "from collections import OrderedDict\n",
    "\n",
    "ratings = [('Old York', 3.3), ('New Age', 4.6), ('Old Gold', 3.3), ('General Foods', 4.8),\n",
    "           ('Belissimo', 4.5), ('CakeAndCoffee', 4.2), ('CakeOClock', 4.2), ('CakeTime', 4.1),\n",
    "           ('WokToWork', 4.9), ('WokAndRice', 4.9), ('Old Wine Cellar', 3.3), ('Nice Cakes', 3.9)]\n",
    "\n",
    "\n",
    "cafes = OrderedDict(sorted(ratings, key = lambda x : (-x[1], x[0])))"
   ]
  },
  {
   "cell_type": "markdown",
   "metadata": {},
   "source": [
    "Напишите функцию task_manager(tasks), которая принимает список задач tasks для нескольких серверов. Каждый элемент списка состоит из кортежа (<номер задачи>, <название сервера>, <высокий приоритет задачи>).\n",
    "\n",
    "Функция должна создавать словарь и заполнять его задачами по следующему принципу: название сервера — ключ, по которому хранится очередь задач для конкретного сервера.\n",
    "\n",
    "Если поступает задача без высокого приоритета (последний элемент кортежа — False), добавить номер задачи в конец очереди. Если приоритет высокий, добавить номер в начало.\n",
    "\n",
    "Для словаря используйте defaultdict, для очереди — deque.\n",
    "\n",
    "Функция возвращает полученный словарь с задачами.\n",
    "\n",
    "Пример\n",
    "tasks = [(36871, 'office', False),\n",
    "(40690, 'office', False),\n",
    "(35364, 'voltage', False),\n",
    "(41667, 'voltage', True),\n",
    "(33850, 'office', False)]\n",
    "\n",
    "print(task_manager(tasks))\n",
    "# defaultdict(, {'voltage': deque([41667, 35364]),\n",
    "# 'office': deque([36871, 40690, 33850])})\n"
   ]
  },
  {
   "cell_type": "code",
   "execution_count": 7,
   "metadata": {},
   "outputs": [
    {
     "name": "stdout",
     "output_type": "stream",
     "text": [
      "defaultdict(<class 'collections.deque'>, {'office': deque([36871, 40690, 33850]), 'voltage': deque([41667, 35364])})\n"
     ]
    }
   ],
   "source": [
    "from collections import deque\n",
    "from collections import defaultdict\n",
    "\n",
    "tasks = [(36871, 'office', False),\n",
    "(40690, 'office', False),\n",
    "(35364, 'voltage', False),\n",
    "(41667, 'voltage', True),\n",
    "(33850, 'office', False)]\n",
    "finaly_dyct = defaultdict(deque)\n",
    "\n",
    "\n",
    "def task_manager(tasks):\n",
    "    dq_1 = deque()\n",
    "    dq_2 = deque()\n",
    "    for elements in tasks:\n",
    "        if elements[1] == 'voltage':\n",
    "            if elements[2] == True:\n",
    "                dq_1.appendleft(elements[0])\n",
    "            else:\n",
    "                dq_1.append(elements[0]) \n",
    "            finaly_dyct[elements[1]] = dq_1  \n",
    "          \n",
    "        elif elements[1] == 'office':\n",
    "            if elements[2] == True:\n",
    "                dq_2.appendleft(elements[0])\n",
    "            else:\n",
    "                dq_2.append(elements[0]) \n",
    "            finaly_dyct[elements[1]] = dq_2   \n",
    "    return finaly_dyct\n",
    "   \n",
    "print(task_manager(tasks))"
   ]
  },
  {
   "cell_type": "markdown",
   "metadata": {},
   "source": [
    "Вам дан массив mystery\n",
    "\n",
    "mystery = np.array([[-13586,  15203,  28445, -27117,  -1781, -17182, -18049],\n",
    "       [ 25936, -30968,  -1297,  -4593,   6451,  15790,   7181],\n",
    "       [ 13348,  28049,  28655,  -6012,  21762,  25397,   8225],\n",
    "       [ 13240,   7994,  32592,  20149,  13754,  11795,   -564],\n",
    "       [-21725,  -8681,  30305,  22260, -17918,  12578,  29943],\n",
    "       [-16841, -25392, -17278,  11740,   5916,    -47, -32037]],\n",
    "      dtype=np.int16)\n",
    "Выполните все пукты задания по порядку.\n",
    "\n",
    "Пожалуйста, не меняйте названия переменных, в которых должны появиться ответы.\n",
    "\n",
    "В переменную elem_5_3 сохраните элемент из 5 строки и 3 столбца\n",
    "\n",
    "В переменную last сохраните элемент из последней строки последнего столбца\n",
    "\n",
    "В переменную line_4 сохраните строку 4\n",
    "\n",
    "В переменную col_2 сохраните предпоследний столбец\n",
    "\n",
    "Из строк 2-4 (включительно) получите столбцы 3-5 (включительно). Результат сохраните в переменную part\n",
    "\n",
    "Сохраните в переменную rev последний столбец в обратном порядке\n",
    "\n",
    "Сохраните в переменную trans транспонированный массив"
   ]
  },
  {
   "cell_type": "code",
   "execution_count": null,
   "metadata": {},
   "outputs": [],
   "source": [
    "import numpy as np\n",
    "mystery = np.array([[-13586,  15203,  28445, -27117,  -1781, -17182, -18049],\n",
    "       [ 25936, -30968,  -1297,  -4593,   6451,  15790,   7181],\n",
    "       [ 13348,  28049,  28655,  -6012,  21762,  25397,   8225],\n",
    "       [ 13240,   7994,  32592,  20149,  13754,  11795,   -564],\n",
    "       [-21725,  -8681,  30305,  22260, -17918,  12578,  29943],\n",
    "       [-16841, -25392, -17278,  11740,   5916,    -47, -32037]],\n",
    "      dtype=np.int16)\n",
    "\n",
    "elem_5_3 = mystery[4, 2] \n",
    "#print(elem_5_3)\n",
    "last = mystery[5, 6]\n",
    "#print(last)\n",
    "line_4 = mystery[3]\n",
    "#print(line_4)\n",
    "col_2 = mystery[:,5]\n",
    "#print(col_2)\n",
    "part = mystery[1:4, 2:5]\n",
    "# print(part)\n",
    "rev = mystery[:, 6][::-1]\n",
    "# print(rev)\n",
    "trans = mystery.transpose()\n",
    "#print(trans)"
   ]
  },
  {
   "cell_type": "markdown",
   "metadata": {},
   "source": [
    "Вам дан массив mystery:\n",
    "\n",
    "mystery = np.array([ 12279., -26024.,  28745.,  np.nan,  31244.,  -2365.,  -6974.,\n",
    "        -9212., np.nan, -17722.,  16132.,  25933.,  np.nan, -16431.,\n",
    "        29810.], dtype=np.float32)\n",
    "Получите булевый массив nans_index с информацией о np.nan в массиве mystery: True - значение пропущено, False - значение не пропущено\n",
    "\n",
    "В переменную n_nan сохраните число пропущенных значений\n",
    "\n",
    "Скопируйте массив mystery в массив mystery_new. Заполните пропущенные значения в массиве mystery_new нулями\n",
    "\n",
    "Поменяйте тип данных в массиве mystery на int32 и сохраните в переменную mystery_int\n",
    "\n",
    "Отсортируйте значения в массиве mystery по возрастанию и сохраните результат в переменную array\n",
    "\n",
    "Сохраните в массив table двухмерный массив, полученный из массива array. В нём должно быть 5 строк и 3 столбца. Причём порядок заполнения должен быть по столбцам!\n",
    "\n",
    "Например,\n",
    "\n",
    " 1, 2, 3, 4 -> 1    3\n",
    "               2    4\n",
    "Сохраните в переменную col средний столбец из table"
   ]
  },
  {
   "cell_type": "code",
   "execution_count": null,
   "metadata": {},
   "outputs": [],
   "source": [
    "import numpy as np\n",
    "mystery = np.array([ 12279., -26024.,  28745.,  np.nan,  31244.,  -2365.,  -6974.,\n",
    "        -9212., np.nan, -17722.,  16132.,  25933.,  np.nan, -16431.,\n",
    "        29810.], dtype=np.float32)\n",
    "nans_index = np.isnan(mystery)\n",
    "n_nan = len(mystery[np.isnan(mystery)])\n",
    "\n",
    "mystery_new = mystery.copy()\n",
    "mystery_new[np.isnan(mystery_new)] = 0\n",
    "#print(mystery_new, 'new')\n",
    "\n",
    "mystery_int = np.int32(mystery)\n",
    "#print(mystery_int, 'int')\n",
    "\n",
    "array = np.sort(mystery)\n",
    "#print(array, 'array')\n",
    "\n",
    "table = array.reshape((3,5))\n",
    "table = table.transpose()\n",
    "#print(table)\n",
    "\n",
    "col = table[:, 1]\n",
    "#print(col)"
   ]
  },
  {
   "cell_type": "markdown",
   "metadata": {},
   "source": [
    "\n",
    "Задайте seed = 2021.\n",
    "\n",
    "Сохраните в переменные необходимые значения.\n",
    "\n",
    "Примечание 1. Не меняйте названия переменных и последовательность генерации случайных чисел в задании.\n",
    "\n",
    "Примечание 2. Не забудьте импортировать numpy и сразу задать seed = 2021\n",
    "\n",
    "Примечание 3. Необходимый тип данных в подзаданиях — numpy.array.\n",
    "\n",
    "В simple сохраните случайное число в диапазоне от 0 до 1\n",
    "\n",
    "Сгенерируйте 120 чисел в диапазоне от -150 до 2021, сохраните их в переменную randoms\n",
    "\n",
    "Получите массив из случайных целых чисел от 1 до 100 (включительно) из 3 строк и 2 столбцов. Сохраните результат в table\n",
    "\n",
    "В переменную even сохраните четные числа от 2 до 16 (включительно)\n",
    "\n",
    "Скопируйте even в переменную mix. Перемешайте числа в mix так, чтобы массив изменился\n",
    "\n",
    "Получите из even 3 числа без повторений. Сохраните их в переменную select\n",
    "\n",
    "Получите переменную triplet, которая должна содержать перемешанные значения из массива select (сам select измениться не должен)"
   ]
  },
  {
   "cell_type": "code",
   "execution_count": null,
   "metadata": {},
   "outputs": [],
   "source": [
    "import numpy as np\n",
    "np.random.seed(2021)\n",
    "\n",
    "simple = np.random.rand()\n",
    "\n",
    "randoms = np.random.uniform(-150, 2021, size = 120)\n",
    "\n",
    "table = np.random.randint(1, 101, size=(3,2), dtype=int)\n",
    "\n",
    "even = np.arange(2,17,2)\n",
    "\n",
    "mix = even.copy()\n",
    "mix = np.random.permutation(mix)\n",
    "\n",
    "\n",
    "\n",
    "select = np.random.choice(even, size = 3, replace = False)\n",
    "\n",
    "triplet = np.random.permutation(select)\n"
   ]
  },
  {
   "cell_type": "markdown",
   "metadata": {},
   "source": [
    "Напишите функцию get_chess(a), которая принимает на вход длину стороны квадрата a и возвращает двумерный массив формы (a, a), заполненный 0 и 1 в шахматном порядке. В левом верхнем углу всегда должен быть ноль.\n",
    "\n",
    "Примечание. воспользуйтесь функцией np.zeros, а затем с помощью срезов без циклов задайте необходимым элементам значение 1.\n",
    "\n",
    "В Python для получения каждого второго элемента используется срез [::2]. Подумайте, как грамотно применить этот принцип к двумерному массиву.\n",
    "\n",
    "Пример\n",
    "\n",
    "\n",
    "get_chess(1)\n",
    "# array([[0.]])\n",
    "\n",
    "get_chess(4)\n",
    "# array([[0., 1., 0., 1.],\n",
    "#        [1., 0., 1., 0.],\n",
    "#        [0., 1., 0., 1.],\n",
    "#        [1., 0., 1., 0.]])"
   ]
  },
  {
   "cell_type": "code",
   "execution_count": null,
   "metadata": {},
   "outputs": [],
   "source": [
    "import numpy as np\n",
    "\n",
    "def get_chess(a):\n",
    "    zeros_3d = np.zeros((a,a), dtype = np.float16)\n",
    "    zeros_3d[1::2,::2] = 1\n",
    "    zeros_3d[::2, 1::2] = 1  \n",
    "    return zeros_3d\n",
    "# print(get_chess(a))"
   ]
  },
  {
   "cell_type": "markdown",
   "metadata": {},
   "source": [
    "Вы разрабатываете приложение для прослушивания музыки. Конечно же, там будет доступна функция перемешивания плейлиста. Пользователю может настолько понравиться перемешанная версия плейлиста, что он захочет сохранить его копию. Однако вы не хотите хранить в памяти новую версию плейлиста, а просто хотите сохранять тот seed, с которым он был сгенерирован.\n",
    "\n",
    "Для этого напишите функцию shuffle_seed(array), которая принимает на вход массив из чисел, генерирует случайное число для seed в диапазоне от 0 до 2**32 - 1 (включительно) и возвращает кортеж: перемешанный с данным seed массив (исходный массив должен оставаться без изменений), а также seed, с которым этот массив был получен.\n",
    "\n",
    "Пример\n",
    "\n",
    "\n",
    "array = [1, 2, 3, 4, 5]\n",
    "shuffle_seed(array)\n",
    "# (array([1, 3, 2, 4, 5]), 2332342819)\n",
    "shuffle_seed(array)\n",
    "# (array([4, 5, 2, 3, 1]), 4155165971)"
   ]
  },
  {
   "cell_type": "code",
   "execution_count": 13,
   "metadata": {},
   "outputs": [
    {
     "ename": "ValueError",
     "evalue": "high is out of bounds for int32",
     "output_type": "error",
     "traceback": [
      "\u001b[1;31m---------------------------------------------------------------------------\u001b[0m",
      "\u001b[1;31mValueError\u001b[0m                                Traceback (most recent call last)",
      "Cell \u001b[1;32mIn[13], line 8\u001b[0m\n\u001b[0;32m      6\u001b[0m     result \u001b[38;5;241m=\u001b[39m np\u001b[38;5;241m.\u001b[39mrandom\u001b[38;5;241m.\u001b[39mpermutation(array)\n\u001b[0;32m      7\u001b[0m     \u001b[38;5;28;01mreturn\u001b[39;00m result, seed\n\u001b[1;32m----> 8\u001b[0m \u001b[38;5;28mprint\u001b[39m(\u001b[43mshuffle_seed\u001b[49m\u001b[43m(\u001b[49m\u001b[43marray\u001b[49m\u001b[43m)\u001b[49m)\n",
      "Cell \u001b[1;32mIn[13], line 4\u001b[0m, in \u001b[0;36mshuffle_seed\u001b[1;34m(array)\u001b[0m\n\u001b[0;32m      3\u001b[0m \u001b[38;5;28;01mdef\u001b[39;00m \u001b[38;5;21mshuffle_seed\u001b[39m(array):\n\u001b[1;32m----> 4\u001b[0m     seed \u001b[38;5;241m=\u001b[39m \u001b[43mnp\u001b[49m\u001b[38;5;241;43m.\u001b[39;49m\u001b[43mrandom\u001b[49m\u001b[38;5;241;43m.\u001b[39;49m\u001b[43mrandint\u001b[49m\u001b[43m(\u001b[49m\u001b[38;5;241;43m2\u001b[39;49m\u001b[43m \u001b[49m\u001b[38;5;241;43m*\u001b[39;49m\u001b[38;5;241;43m*\u001b[39;49m\u001b[43m \u001b[49m\u001b[38;5;241;43m32\u001b[39;49m\u001b[43m)\u001b[49m\n\u001b[0;32m      5\u001b[0m     np\u001b[38;5;241m.\u001b[39mrandom\u001b[38;5;241m.\u001b[39mseed(seed)\n\u001b[0;32m      6\u001b[0m     result \u001b[38;5;241m=\u001b[39m np\u001b[38;5;241m.\u001b[39mrandom\u001b[38;5;241m.\u001b[39mpermutation(array)\n",
      "File \u001b[1;32mnumpy\\\\random\\\\mtrand.pyx:780\u001b[0m, in \u001b[0;36mnumpy.random.mtrand.RandomState.randint\u001b[1;34m()\u001b[0m\n",
      "File \u001b[1;32mnumpy\\\\random\\\\_bounded_integers.pyx:2881\u001b[0m, in \u001b[0;36mnumpy.random._bounded_integers._rand_int32\u001b[1;34m()\u001b[0m\n",
      "\u001b[1;31mValueError\u001b[0m: high is out of bounds for int32"
     ]
    }
   ],
   "source": [
    "# ЭТАЛОН\n",
    "import numpy as np\n",
    "\n",
    "def shuffle_seed(array):\n",
    "    seed = np.random.randint(2 ** 32)\n",
    "    np.random.seed(seed)\n",
    "    result = np.random.permutation(array)\n",
    "    return result, seed\n",
    "print(shuffle_seed(array))"
   ]
  },
  {
   "cell_type": "code",
   "execution_count": 8,
   "metadata": {},
   "outputs": [
    {
     "ename": "ValueError",
     "evalue": "high is out of bounds for int32",
     "output_type": "error",
     "traceback": [
      "\u001b[1;31m---------------------------------------------------------------------------\u001b[0m",
      "\u001b[1;31mValueError\u001b[0m                                Traceback (most recent call last)",
      "Cell \u001b[1;32mIn[8], line 14\u001b[0m\n\u001b[0;32m     10\u001b[0m     c \u001b[38;5;241m=\u001b[39m np\u001b[38;5;241m.\u001b[39mrandom\u001b[38;5;241m.\u001b[39mchoice(array, size \u001b[38;5;241m=\u001b[39m \u001b[38;5;28mlen\u001b[39m(array), replace \u001b[38;5;241m=\u001b[39m \u001b[38;5;28;01mFalse\u001b[39;00m)\n\u001b[0;32m     12\u001b[0m     \u001b[38;5;28;01mreturn\u001b[39;00m (c,b)\n\u001b[1;32m---> 14\u001b[0m \u001b[38;5;28mprint\u001b[39m(\u001b[43mshuffle_seed\u001b[49m\u001b[43m(\u001b[49m\u001b[43marray\u001b[49m\u001b[43m)\u001b[49m)\n",
      "Cell \u001b[1;32mIn[8], line 8\u001b[0m, in \u001b[0;36mshuffle_seed\u001b[1;34m(array)\u001b[0m\n\u001b[0;32m      5\u001b[0m \u001b[38;5;28;01mdef\u001b[39;00m \u001b[38;5;21mshuffle_seed\u001b[39m(array):\n\u001b[0;32m      7\u001b[0m     a \u001b[38;5;241m=\u001b[39m np\u001b[38;5;241m.\u001b[39mint64(\u001b[38;5;241m2\u001b[39m\u001b[38;5;241m*\u001b[39m\u001b[38;5;241m*\u001b[39m\u001b[38;5;241m32\u001b[39m\u001b[38;5;241m-\u001b[39m\u001b[38;5;241m1\u001b[39m)  \n\u001b[1;32m----> 8\u001b[0m     b \u001b[38;5;241m=\u001b[39m \u001b[43mnp\u001b[49m\u001b[38;5;241;43m.\u001b[39;49m\u001b[43mrandom\u001b[49m\u001b[38;5;241;43m.\u001b[39;49m\u001b[43mrandint\u001b[49m\u001b[43m(\u001b[49m\u001b[38;5;241;43m0\u001b[39;49m\u001b[43m,\u001b[49m\u001b[43ma\u001b[49m\u001b[38;5;241;43m+\u001b[39;49m\u001b[38;5;241;43m1\u001b[39;49m\u001b[43m)\u001b[49m\n\u001b[0;32m      9\u001b[0m     np\u001b[38;5;241m.\u001b[39mrandom\u001b[38;5;241m.\u001b[39mseed(b)\n\u001b[0;32m     10\u001b[0m     c \u001b[38;5;241m=\u001b[39m np\u001b[38;5;241m.\u001b[39mrandom\u001b[38;5;241m.\u001b[39mchoice(array, size \u001b[38;5;241m=\u001b[39m \u001b[38;5;28mlen\u001b[39m(array), replace \u001b[38;5;241m=\u001b[39m \u001b[38;5;28;01mFalse\u001b[39;00m)\n",
      "File \u001b[1;32mnumpy\\\\random\\\\mtrand.pyx:780\u001b[0m, in \u001b[0;36mnumpy.random.mtrand.RandomState.randint\u001b[1;34m()\u001b[0m\n",
      "File \u001b[1;32mnumpy\\\\random\\\\_bounded_integers.pyx:2881\u001b[0m, in \u001b[0;36mnumpy.random._bounded_integers._rand_int32\u001b[1;34m()\u001b[0m\n",
      "\u001b[1;31mValueError\u001b[0m: high is out of bounds for int32"
     ]
    }
   ],
   "source": [
    "# МОЕ РЕШЕНИЕ\n",
    "import numpy as np\n",
    "\n",
    "array = [1, 2, 3, 4, 5]\n",
    "\n",
    "def shuffle_seed(array):\n",
    "\n",
    "    a = np.int64(2**32-1)  \n",
    "    b = np.random.randint(0,a+1)\n",
    "    np.random.seed(b)\n",
    "    c = np.random.choice(array, size = len(array), replace = False)\n",
    "    \n",
    "    return (c,b)\n",
    "# выполнять в он-лайн редакторе IDE!!!\n",
    "print(shuffle_seed(array))"
   ]
  },
  {
   "cell_type": "markdown",
   "metadata": {},
   "source": [
    "Напишите функцию min_max_dist(*vectors), которая принимает на вход неограниченное число векторов через запятую. Гарантируется, что все векторы, которые передаются, одинаковой длины.\n",
    "\n",
    "Функция возвращает минимальное и максимальное расстояние между векторами в виде кортежа.\n",
    "\n",
    "Пример\n",
    "vec1 = np.array([1,2,3])\n",
    "vec2 = np.array([4,5,6])\n",
    "vec3 = np.array([7, 8, 9])\n",
    "\n",
    "min_max_dist(vec1, vec2, vec3)\n",
    "# (5.196152422706632, 10.392304845413264)\n"
   ]
  },
  {
   "cell_type": "code",
   "execution_count": 9,
   "metadata": {},
   "outputs": [
    {
     "name": "stdout",
     "output_type": "stream",
     "text": [
      "(5.196152422706632, 42.16633728461603)\n"
     ]
    }
   ],
   "source": [
    "import numpy as np\n",
    "\n",
    "vec1 = np.array([1,2,3])\n",
    "vec2 = np.array([4,5,6])\n",
    "vec3 = np.array([7, 8, 9])\n",
    "vec4 = np.array([41,15,6])\n",
    "\n",
    "def min_max_dist(*vectors):\n",
    "    result = []\n",
    "    a_len = len(vectors)\n",
    "    for vector in vectors:        \n",
    "        for i in range(0, a_len):           \n",
    "            if vector is vectors[i]:\n",
    "                continue\n",
    "            else:\n",
    "                result.append(np.linalg.norm(vector - vectors[i]))\n",
    "    return (min(result), max(result))\n",
    "\n",
    "print(min_max_dist(vec1, vec2, vec3, vec4))\n"
   ]
  },
  {
   "cell_type": "markdown",
   "metadata": {},
   "source": [
    "Напишите функцию any_normal, которая принимает на вход неограниченное число векторов через запятую. Гарантируется, что все векторы, которые передаются, одинаковой длины.\n",
    "\n",
    "Функция возвращает True, если есть хотя бы одна пара перпендикулярных векторов. Иначе возвращает False.\n",
    "\n",
    "Пример\n",
    "\n",
    "vec1 = np.array([2, 1])\n",
    "vec2 = np.array([-1, 2])\n",
    "vec3 = np.array([3,4])\n",
    "print(any_normal(vec1, vec2, vec3))\n",
    "# True"
   ]
  },
  {
   "cell_type": "code",
   "execution_count": 10,
   "metadata": {},
   "outputs": [
    {
     "name": "stdout",
     "output_type": "stream",
     "text": [
      "True\n"
     ]
    }
   ],
   "source": [
    "import numpy as np\n",
    "\n",
    "vec1 = np.array([2, 1])\n",
    "vec2 = np.array([-1, 2])\n",
    "vec3 = np.array([3,4])\n",
    "\n",
    "def any_normal(*vectors):\n",
    "    result = []\n",
    "    a_len = len(vectors)\n",
    "    for vector in vectors:        \n",
    "        for i in range(0, a_len):           \n",
    "            if vector is vectors[i]:\n",
    "                continue\n",
    "            else:\n",
    "                if np.dot(vector, vectors[i]) == 0:\n",
    "                    return True\n",
    "                else:\n",
    "                    return False\n",
    "    \n",
    "\n",
    "print(any_normal(vec1, vec2, vec3))"
   ]
  },
  {
   "cell_type": "markdown",
   "metadata": {},
   "source": [
    "Напишите функцию get_loto(num), генерирующую трёхмерный массив случайных целых чисел от 1 до 100 (включительно). Это поля для игры в лото.\n",
    "\n",
    "Трёхмерный массив должен состоять из таблиц чисел формы 5х5, то есть итоговая форма — (num, 5, 5).\n",
    "\n",
    "Функция возвращает полученный массив.\n",
    "\n",
    "Пример\n",
    "\n",
    "get_loto(3)\n",
    "Результат:\n",
    "\n",
    "array([[[ 35,  66,  38,  11,  32],\n",
    "       [ 32,   7,  37,  83,  42],\n",
    "       [ 89,  37,  19,  51,  89],\n",
    "       [ 70, 100,  83,   5,  11],\n",
    "       [ 20,  13,  60,  26,  41]],\n",
    "\n",
    "      [[ 23,  49,  76,  44,  43],\n",
    "       [ 59,  63,  99,  92,   2],\n",
    "       [ 83,   4,  25,  73,  19],\n",
    "       [ 10,  18,  40,  11,  21],\n",
    "       [ 58,  45,  73,  93,  61]],\n",
    "\n",
    "      [[100,  88,  70,  34,  51],\n",
    "       [  5,  35,  36,  85,  88],\n",
    "       [ 72,  23,  87,  30,  40],\n",
    "       [ 29,  21,  51,  73,  81],\n",
    "       [ 91,  19,  87,  60,  27]]])"
   ]
  },
  {
   "cell_type": "code",
   "execution_count": 11,
   "metadata": {},
   "outputs": [
    {
     "name": "stdout",
     "output_type": "stream",
     "text": [
      "[[[86 52 53 23 58]\n",
      "  [57 45 33 15 54]\n",
      "  [20 56 39 20 90]\n",
      "  [48 54 16  6 20]\n",
      "  [25 72 80 92 93]]\n",
      "\n",
      " [[17 79  0 49 22]\n",
      "  [53 67  7 89  5]\n",
      "  [18 83 90 37 82]\n",
      "  [15 14 31 15 19]\n",
      "  [14 58 29 17 36]]\n",
      "\n",
      " [[19 71 31 24  1]\n",
      "  [92 58 22 89 77]\n",
      "  [31 10 24 34 32]\n",
      "  [23 80 11 59 15]\n",
      "  [65 79 74 41 91]]]\n"
     ]
    }
   ],
   "source": [
    "import numpy as np\n",
    "\n",
    "\n",
    "num = 3 \n",
    "def get_loto(num) -> 'array':\n",
    "    \"\"\"## _summary_\n",
    "\n",
    "    ### Args:\n",
    "        - `num (_type_)`: _description_\n",
    "\n",
    "    ### Returns:\n",
    "        - `array`: _description_\n",
    "    \"\"\"\n",
    "    # np.random.randint(0,101,size = (num,5,5), dtype = int)\n",
    "    return np.random.randint(0,101,size = (num,5,5), dtype = int)\n",
    "\n",
    "print(get_loto(num))"
   ]
  },
  {
   "cell_type": "markdown",
   "metadata": {},
   "source": [
    "Напишите функцию get_unique_loto(num). Она так же, как и функция в задании 49.9.10, генерирует num полей для игры в лото, однако теперь на каждом поле 5х5 числа не могут повторяться.\n",
    "\n",
    "Функция также должна возвращать массив формы num x 5 x 5.\n",
    "\n",
    "Пример\n",
    "\n",
    "get_unique_loto(3)\n",
    "Результат:\n",
    "\n",
    "array([[[26, 91, 73,  7, 16],\n",
    "       [46, 85, 78, 77, 51],\n",
    "       [84, 86, 55, 71, 58],\n",
    "       [17, 61, 50, 30, 97],\n",
    "       [66, 29, 38, 41, 32]],\n",
    "\n",
    "      [[49, 32,  3, 21, 85],\n",
    "       [45,  8, 94, 46, 96],\n",
    "       [41, 38, 58, 37, 98],\n",
    "       [66, 77, 54, 80, 26],\n",
    "       [62, 63, 72,  5, 43]],\n",
    "\n",
    "      [[55, 60,  6, 80, 97],\n",
    "       [23, 69, 94,  9, 24],\n",
    "       [17, 98, 27, 63, 79],\n",
    "       [84, 74, 51, 39, 54],\n",
    "       [77, 30, 48, 75, 85]]])"
   ]
  },
  {
   "cell_type": "code",
   "execution_count": null,
   "metadata": {},
   "outputs": [],
   "source": [
    "import numpy as np\n",
    "\n",
    "num = 2\n",
    "\n",
    "def get_unique_loto(num):\n",
    "   \n",
    "    zeros_3d = np.zeros((num,5,5), dtype=np.int8)    \n",
    "    for i in range(num):\n",
    "        zeros_3d[i] = np.random.choice(101, size = (5,5), replace = False)\n",
    "    return zeros_3d\n",
    "\n",
    "print(get_unique_loto(num))"
   ]
  }
 ],
 "metadata": {
  "kernelspec": {
   "display_name": "Python 3",
   "language": "python",
   "name": "python3"
  },
  "language_info": {
   "codemirror_mode": {
    "name": "ipython",
    "version": 3
   },
   "file_extension": ".py",
   "mimetype": "text/x-python",
   "name": "python",
   "nbconvert_exporter": "python",
   "pygments_lexer": "ipython3",
   "version": "3.12.1"
  }
 },
 "nbformat": 4,
 "nbformat_minor": 2
}
