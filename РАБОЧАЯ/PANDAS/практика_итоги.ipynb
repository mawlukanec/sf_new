{
 "cells": [
  {
   "cell_type": "code",
   "execution_count": 33,
   "metadata": {},
   "outputs": [
    {
     "data": {
      "text/plain": [
       "1000"
      ]
     },
     "metadata": {},
     "output_type": "display_data"
    },
    {
     "data": {
      "text/plain": [
       "88"
      ]
     },
     "metadata": {},
     "output_type": "display_data"
    },
    {
     "name": "stdout",
     "output_type": "stream",
     "text": [
      "<class 'pandas.core.frame.DataFrame'>\n",
      "RangeIndex: 1000 entries, 0 to 999\n",
      "Data columns (total 8 columns):\n",
      " #   Column                       Non-Null Count  Dtype \n",
      "---  ------                       --------------  ----- \n",
      " 0   gender                       1000 non-null   object\n",
      " 1   race/ethnicity               1000 non-null   object\n",
      " 2   parental level of education  1000 non-null   object\n",
      " 3   lunch                        1000 non-null   object\n",
      " 4   test preparation course      1000 non-null   object\n",
      " 5   math score                   1000 non-null   int64 \n",
      " 6   reading score                1000 non-null   int64 \n",
      " 7   writing score                1000 non-null   int64 \n",
      "dtypes: int64(3), object(5)\n",
      "memory usage: 62.6+ KB\n",
      "race/ethnicity\n",
      "group C    0.319\n",
      "group D    0.262\n",
      "group B    0.190\n",
      "group E    0.140\n",
      "group A    0.089\n",
      "Name: proportion, dtype: float64\n"
     ]
    },
    {
     "data": {
      "text/plain": [
       "74"
      ]
     },
     "metadata": {},
     "output_type": "display_data"
    },
    {
     "data": {
      "text/plain": [
       "1"
      ]
     },
     "metadata": {},
     "output_type": "display_data"
    },
    {
     "name": "stdout",
     "output_type": "stream",
     "text": [
      "59 70\n",
      "12\n",
      "6\n"
     ]
    }
   ],
   "source": [
    "import pandas as pd\n",
    "\n",
    "students_performance = pd.read_csv('d:/python/GUESS/РАБОЧАЯ/PANDAS/data/students_performance.csv', sep=',') # , encoding='windows 1251')\n",
    "\n",
    "# Данные о скольких студентах содержатся в таблице?\n",
    "display(students_performance.shape[0])\n",
    "\n",
    "\n",
    "# Каков балл по письму у студента под индексом 155?\n",
    "display(students_performance.iloc[155].loc['writing score'])\n",
    "\n",
    "\n",
    "# Сколько суммарно пропущенных значений в таблице?\n",
    "students_performance.info()\n",
    "# 0\n",
    "\n",
    "# Сколько столбцов в таблице имеет тип данных object?\n",
    "students_performance.describe(include='object')\n",
    "# 5\n",
    "\n",
    "round(students_performance['math score'].mean())\n",
    "# 66\n",
    "\n",
    "# Какая расовая группа является самой крупной в учебном заведении???????????????????????????????????????????????????????????????????????????????\n",
    "print(students_performance['race/ethnicity'].value_counts(normalize=True))\n",
    "# C\n",
    "\n",
    "# Каков средний балл по чтению у студентов, которые посещали курсы подготовки к экзаменам?\n",
    "# Округлите ответ до целого числа.\n",
    "display(round(students_performance[students_performance['test preparation course'] == 'completed']['reading score'].mean()))\n",
    "# students_performance[students_performance['test preparation course'] == 'completed']\n",
    "\n",
    "\n",
    "# Сколько студентов получили 0 баллов по математике?\n",
    "display(students_performance[students_performance['math score']==0].shape[0])\n",
    "\n",
    "\n",
    "# Проверьте гипотезу: у студентов с оплачиваемым питанием средний балл по математике выше, чем у студентов с льготным питанием.\n",
    "# В качестве ответа напишите наибольший средний балл по математике среди этих групп студентов.\n",
    "# Округлите ответ до целого числа.\n",
    "\n",
    "students_standard = round(students_performance[students_performance['lunch']== 'standard']['math score'].mean())\n",
    "students_free = round(students_performance[students_performance['lunch']== 'free/reduced']['math score'].mean())\n",
    "print(students_free,students_standard)\n",
    "#students_free[students_free['math score']=='free/reduced']\n",
    "\n",
    "\n",
    "# Каков процент студентов, родители которых имеют высшее образование уровня бакалавриата (bachelor's degree)?\n",
    "# Округлите ответ до целого числа.\n",
    "# Не указывайте знак %.\n",
    " \n",
    "professors = students_performance[students_performance['parental level of education'] == \"bachelor's degree\"].shape[0]\n",
    "print(round(professors / students_performance.shape[0]*100))\n",
    "\n",
    "\n",
    "# Насколько медианный балл по письму у студентов в расовой группе А отличается от среднего балла по письму у студентов в расовой группе C?\n",
    "# Округлите ответ до целого и запишите модуль этого числа.\n",
    "\n",
    "mediana_A = students_performance[students_performance['race/ethnicity'] == 'group A']['writing score'].median()\n",
    "mean_C = students_performance[students_performance['race/ethnicity'] == 'group C']['writing score'].mean()\n",
    "print(abs(round(mediana_A - mean_C)))"
   ]
  },
  {
   "cell_type": "markdown",
   "metadata": {},
   "source": [
    "gender — пол;\n",
    "race/ethnicity — раса/этническая принадлежность;\n",
    "parental level of education — уровень образования родителей;\n",
    "lunch — какие обеды получал студент во время обучения (standard — платный, free/reduced — бесплатный);\n",
    "test preparation course — посещал ли студент курсы подготовки к экзаменам (none — не посещал, completed — посещал);\n",
    "math score, reading score, writing score — баллы по математике, чтению и письму по сто балльной шкале."
   ]
  }
 ],
 "metadata": {
  "kernelspec": {
   "display_name": "Python 3",
   "language": "python",
   "name": "python3"
  },
  "language_info": {
   "codemirror_mode": {
    "name": "ipython",
    "version": 3
   },
   "file_extension": ".py",
   "mimetype": "text/x-python",
   "name": "python",
   "nbconvert_exporter": "python",
   "pygments_lexer": "ipython3",
   "version": "3.12.1"
  }
 },
 "nbformat": 4,
 "nbformat_minor": 2
}
