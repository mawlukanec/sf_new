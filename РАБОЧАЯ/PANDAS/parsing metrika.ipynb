{
 "cells": [
  {
   "cell_type": "code",
   "execution_count": 3,
   "metadata": {},
   "outputs": [
    {
     "data": {
      "text/plain": [
       "<Response [200]>"
      ]
     },
     "execution_count": 3,
     "metadata": {},
     "output_type": "execute_result"
    }
   ],
   "source": [
    "#import pandas as pd\n",
    "# Import libraries\n",
    "import requests\n",
    "from bs4 import BeautifulSoup\n",
    "# import pandas as pd\n",
    "\n",
    "# Create an URL object\n",
    "url = \"https://metrika.yandex.ru/stat/tags_utm?goal=313960040&metric=ym%3As%3Agoal%3Cgoal_id%3Eusers&sort=-ym%3As%3Agoal%3Cgoal_id%3Evisits&period=2024-04-01%3A2024-04-14&accuracy=1&id=53698513&group=day&isSamplingEnabled=true&stateHash=658d4e23875209000ccec065\"\n",
    "# Create object page\n",
    "page = requests.get(url)\n",
    "page\n",
    "# Результат <Response [200]> означает, что сервер позволяет нам собирать информацию.\n",
    "\n",
    "# parser-lxml = Change html to Python friendly format\n",
    "# Obtain page's information\n",
    "soup = BeautifulSoup(page.text, 'lxml')\n",
    "soup\n"
   ]
  }
 ],
 "metadata": {
  "kernelspec": {
   "display_name": "Python 3",
   "language": "python",
   "name": "python3"
  },
  "language_info": {
   "codemirror_mode": {
    "name": "ipython",
    "version": 3
   },
   "file_extension": ".py",
   "mimetype": "text/x-python",
   "name": "python",
   "nbconvert_exporter": "python",
   "pygments_lexer": "ipython3",
   "version": "3.12.1"
  }
 },
 "nbformat": 4,
 "nbformat_minor": 2
}
