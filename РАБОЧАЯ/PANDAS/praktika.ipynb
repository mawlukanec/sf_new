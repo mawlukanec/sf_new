{
 "cells": [
  {
   "cell_type": "markdown",
   "metadata": {},
   "source": [
    "В аптеку поступают партии лекарств. Их названия находятся в списке names, количество единиц товара находится в списке counts.\n",
    "\n",
    "Например:\n",
    "\n",
    "names = ['chlorhexidine', 'cyntomycin', 'afobazol'] counts = [15, 18, 7]\n",
    "\n",
    "Напишите функцию create_medications(names, counts), которая создает Series medications, индексами которой являются названия лекарств names, а значениями - их количество в поставке counts.\n",
    "\n",
    "А также напишите функцию get_percent(medications, name), которая возвращает долю количества товара с именем name от общего количества товаров в поставке в процентах.\n",
    "\n",
    "Примечание. Не забудьте ипортировать библиотеки.\n",
    "\n",
    "Пример:\n",
    "\n",
    "names=['chlorhexidine', 'cyntomycin', 'afobazol']\n",
    "counts=[15, 18, 7]\n",
    "medications = create_medications(names, counts)\n",
    "\n",
    "print(get_percent(medications, \"chlorhexidine\")) #37.5\n"
   ]
  },
  {
   "cell_type": "code",
   "execution_count": 1,
   "metadata": {},
   "outputs": [
    {
     "name": "stdout",
     "output_type": "stream",
     "text": [
      "35.294117647058826\n"
     ]
    }
   ],
   "source": [
    "import pandas as pd\n",
    "\n",
    "#names=['chlorhexidine', 'cyntomycin', 'afobazol']\n",
    "#counts=[15, 18, 7]\n",
    "\n",
    "def create_medications(names, counts):\n",
    "    medications = pd.Series(counts, names)\n",
    "    return medications\n",
    "\n",
    "def get_percent(medications, name):\n",
    "    \n",
    "    medications.loc[name]\n",
    "    # sum_count = sum(medications[name])\n",
    "    # print(medications.loc[name])\n",
    "    # print(medications.iloc[1]+medications.iloc[2]+medications.iloc[0])\n",
    "    return (medications.loc[name]/(medications.iloc[1]+medications.iloc[2]+medications.iloc[0]))*100\n",
    "    \n",
    "print(get_percent(name = 'cyntomycin', medications = create_medications(['chlorhexidine', 'cyntomycin', 'afobazol'],[26, 18, 7])))"
   ]
  },
  {
   "cell_type": "markdown",
   "metadata": {},
   "source": [
    "DATAFRAME\n",
    "\n",
    "Вы работаете аналитиком в компании ScienceYou. Ваша задача — проанализировать чистую прибыль.\n",
    "\n",
    "Доходы (income), расходы (expenses) и годы (years), соответствующие им, предоставлены вам в виде списков.\n",
    "\n",
    "Например:\n",
    "\n",
    "\n",
    "income = [478, 512, 196]\n",
    "expenses = [156, 130, 270]\n",
    "years = [2018, 2019, 2020]\n",
    "Создайте функцию create_companyDF(income, expenses, years), которая возвращает DataFrame, составленный из входных данных со столбцами Income и Expenses и индексами, соответствующими годам рассматриваемого периода.\n",
    "\n",
    "Пример такого DataFrame представлен ниже.\n",
    "\n",
    "\n",
    "    Income  Expenses\n",
    "2018    478     156\n",
    "2019    512     130\n",
    "2020    196     270\n",
    "Также напишите функцию get_profit(df, year), которая возвращает разницу между доходом и расходом, записанными в таблице df, за год year.\n",
    "\n",
    "Примечание. Если информация за запрашиваемый год не указана в вашей таблице, вам необходимо вернуть None."
   ]
  },
  {
   "cell_type": "code",
   "execution_count": 3,
   "metadata": {},
   "outputs": [
    {
     "name": "stdout",
     "output_type": "stream",
     "text": [
      "      Income  Expenses\n",
      "2017     612       136\n",
      "2018     516       163\n",
      "2019     329       250\n",
      "2020     158       361\n",
      "\n",
      "353\n",
      "\n",
      "None\n"
     ]
    }
   ],
   "source": [
    "import pandas as pd\n",
    "\n",
    "# income = [478, 512, 196]\n",
    "# expenses = [156, 130, 270]\n",
    "# years = [2018, 2019, 2020]\n",
    "# year = 2018\n",
    "def create_companyDF(income, expenses, years):\n",
    "    result = pd.DataFrame({'Income':income, 'Expenses':expenses})   \n",
    "    result.index = years\n",
    "    return result\n",
    "# df = create_companyDF(income, expenses, years)\n",
    "\n",
    "def get_profit(df, year):\n",
    "    \n",
    "    if year not in df.index:\n",
    "        return\n",
    "    return (df.loc[year]).iloc[0] - (df.loc[year]).iloc[1]\n",
    "    \n",
    "#create_companyDF(income, expenses, years)\n",
    "#print(get_profit(df, year))\n",
    "print(create_companyDF(income = [612, 516, 329, 158], expenses = [136, 163, 250, 361], years = [2017, 2018, 2019, 2020]))\n",
    "print()\n",
    "print(get_profit(year = 2018, df = create_companyDF([612, 516, 329, 158], [136,163,250,361], [2017,2018,2019,2020])))\n",
    "print()\n",
    "print(get_profit(year = 2013, df = create_companyDF([612, 516, 329, 158], [136,163,250,361], [2017,2018,2019,2020])))"
   ]
  }
 ],
 "metadata": {
  "kernelspec": {
   "display_name": "Python 3",
   "language": "python",
   "name": "python3"
  },
  "language_info": {
   "codemirror_mode": {
    "name": "ipython",
    "version": 3
   },
   "file_extension": ".py",
   "mimetype": "text/x-python",
   "name": "python",
   "nbconvert_exporter": "python",
   "pygments_lexer": "ipython3",
   "version": "3.12.1"
  }
 },
 "nbformat": 4,
 "nbformat_minor": 2
}
