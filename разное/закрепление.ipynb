{
 "cells": [
  {
   "cell_type": "code",
   "execution_count": 10,
   "metadata": {},
   "outputs": [
    {
     "name": "stdout",
     "output_type": "stream",
     "text": [
      "389017\n"
     ]
    }
   ],
   "source": [
    "## result = 250047\n",
    "\n",
    "python_string = 'Привет! Меня зовут Питон. Я помогу вам проанализировать некоторые данные.'\n",
    "## result = 389017\n",
    "result = len(python_string)**3\n",
    "print(result)"
   ]
  },
  {
   "cell_type": "code",
   "execution_count": 16,
   "metadata": {},
   "outputs": [
    {
     "name": "stdout",
     "output_type": "stream",
     "text": [
      "27\n"
     ]
    }
   ],
   "source": [
    "# input_string = 'Hello! My name is Python. I will help you to analyze some data.'\n",
    "## count_words = 13\n",
    "\n",
    "input_string = 'There are many great articles about Artificial Intelligence and its benefits for business and society. However, many of these articles are too technical for the average reader.'\n",
    "## count_words = 27\n",
    "gg = input_string\n",
    "gg = gg.replace('!','')\n",
    "gg= gg.replace('.','')\n",
    "gg = gg.replace(',','')\n",
    "gg= gg.replace('?','')\n",
    "gg_slpit = gg.split(' ')\n",
    "count_words = len(gg_slpit)\n",
    "print(count_words)\n",
    "\n",
    "\n"
   ]
  },
  {
   "cell_type": "code",
   "execution_count": 34,
   "metadata": {},
   "outputs": [
    {
     "name": "stdout",
     "output_type": "stream",
     "text": [
      "['10394', 'jpg']\n",
      "10394 \n",
      " jpg\n"
     ]
    }
   ],
   "source": [
    "file_path = 'data/images/train/10394.jpg'\n",
    "## file_name = '10394'\n",
    "## file_extension = 'jpg'\n",
    "\n",
    "#file_path = 'data/images/validation/748923.gif'\n",
    "## file_name = '748923'\n",
    "## file_extension = 'gif'\n",
    "\n",
    "#file_path = 'data/images/384300.png'\n",
    "## file_name = '384300'\n",
    "## file_extension = 'png'\n",
    "file_path = file_path.split('/')\n",
    "gg = file_path[::-1]\n",
    "g = gg[0].split('.')\n",
    "file_name = g[0]\n",
    "file_extension = g[1]\n",
    "print(file_name,'\\n', file_extension)\n",
    "\n"
   ]
  },
  {
   "cell_type": "code",
   "execution_count": 40,
   "metadata": {},
   "outputs": [
    {
     "name": "stdout",
     "output_type": "stream",
     "text": [
      "['когда', 'человек', 'вводит', 'запрос', 'в', 'поисковик', 'он', 'ищет', 'информацию', 'или', 'способ', 'решения', 'своей', 'задачи']\n",
      "когда человек вводит запрос в поисковик он ищет информацию или способ решения своей задачи\n"
     ]
    }
   ],
   "source": [
    "##generated_text = \"глаза нее на поднял он и она попросила что-нибудь скажи\"\n",
    "## updated_text = \"скажи что-нибудь попросила она и он поднял на нее глаза\"\n",
    "\n",
    "generated_text = \"задачи своей решения способ или информацию ищет он поисковик в запрос вводит человек когда\"\n",
    "## updated_text = когда человек вводит запрос в поисковик он ищет информацию или способ решения своей задачи\n",
    "generated_text = generated_text.split(' ')\n",
    "generated_text = generated_text[::-1]\n",
    "print(generated_text)\n",
    "updated_text = ' '.join(generated_text)\n",
    "print(updated_text)"
   ]
  },
  {
   "cell_type": "code",
   "execution_count": 66,
   "metadata": {},
   "outputs": [
    {
     "name": "stdout",
     "output_type": "stream",
     "text": [
      "Пользователь Andrey сменил пароль на 31andrey12QK\n"
     ]
    }
   ],
   "source": [
    "def change_password(user_name, new_password):     \n",
    "    return f\"Пользователь {user_name} сменил пароль на {new_password}\"\n",
    "print(change_password('Andrey', '31andrey12QK'))\n",
    "## Пользователь Andrey сменил пароль на 31andrey12QK\n",
    "\n",
    "#print(change_password('Vasilisk', 'uaf12laK'))\n",
    "## Пользователь Vasilisk сменил пароль на uaf12laK\n"
   ]
  },
  {
   "cell_type": "code",
   "execution_count": 19,
   "metadata": {},
   "outputs": [
    {
     "name": "stdout",
     "output_type": "stream",
     "text": [
      "13973.9\n",
      "2\n",
      "62\n"
     ]
    }
   ],
   "source": [
    "car_dict = {\n",
    "    'car_ID': [123, 117, 111, 82, 101, 96, 156, 2, 58, 49],\n",
    "    'fueltype': ['gas', 'diesel', 'diesel', 'gas', 'gas', 'gas', 'gas', 'gas', 'gas', 'gas'],\n",
    "    'horsepower': [68, 95, 95, 88, 97, 69, 62, 111, 101, 176],\n",
    "    'price': [7609.0, 17950.0, 13860.0, 8499.0, 9549.0, 7799.0, 8778.0, 16500.0, 13645.0, 35550.0]\n",
    "}\n",
    "sr= 0\n",
    "count_diesel=0\n",
    "for x in car_dict['price']:\n",
    "    sr +=x\n",
    "mean_price = sr/len(car_dict['price'])\n",
    "#print(mean_price)\n",
    "for x in car_dict['fueltype']:\n",
    "    if x == 'diesel':\n",
    "        count_diesel +=1\n",
    "#print(count_diesel)\n",
    "min_horsepower = min(car_dict['horsepower'])\n",
    "#print(min_horsepower)"
   ]
  },
  {
   "cell_type": "code",
   "execution_count": 24,
   "metadata": {},
   "outputs": [
    {
     "name": "stdout",
     "output_type": "stream",
     "text": [
      "True\n",
      "False\n"
     ]
    }
   ],
   "source": [
    "\n",
    "def check_duplicates(lst):\n",
    "    gg = set(lst)\n",
    "    return len(gg) != len(lst)\n",
    "\n",
    "lst = [0, 0, 1, 2, 3, 4, 5, 5, 6, 7]\n",
    "print(check_duplicates(lst))\n",
    "# True\n",
    "lst = list(range(0, 15))\n",
    "print(check_duplicates(lst))\n",
    "# False "
   ]
  },
  {
   "cell_type": "code",
   "execution_count": 31,
   "metadata": {},
   "outputs": [
    {
     "name": "stdout",
     "output_type": "stream",
     "text": [
      "[3, 2, 1]\n",
      "[5, 2, 3, 4, 1]\n",
      "['с', 'л', 'о', 'н']\n"
     ]
    }
   ],
   "source": [
    "def swap_places(lst):\n",
    "    lst[0],lst[-1] = lst[-1],lst[0]\n",
    "    return lst\n",
    "\n",
    "\n",
    "print(swap_places([1, 2, 3]))\n",
    "## [3, 2, 1]\n",
    "print(swap_places([1, 2, 3, 4, 5]))\n",
    "## [5, 2, 3, 4, 1]\n",
    "print(swap_places(['н', 'л', 'о', 'с']))\n",
    "## ['с', 'л', 'о', 'н']\n"
   ]
  },
  {
   "cell_type": "code",
   "execution_count": 101,
   "metadata": {},
   "outputs": [
    {
     "name": "stdout",
     "output_type": "stream",
     "text": [
      "['выхухоль', 'белка___', 'крот____']\n",
      "['aaaaa', 'aaaa_', 'aaa__', 'aa___', 'a____']\n",
      "['qweasdqweas', 'ewqqqqq____', 'rteww______', 'q__________']\n"
     ]
    }
   ],
   "source": [
    "def equalize_lengths(a):   \n",
    "    l = []  \n",
    "    sorted_lst = sorted(a, key=lambda x: len(x), reverse=True)\n",
    "    # print(sorted_lst)\n",
    "    for i in range(len(sorted_lst)):\n",
    "       l.append(sorted_lst[i]+'_'*(len(sorted_lst[0])-len(sorted_lst[i])))\n",
    "       #sort_lst.append(l)\n",
    "    return l\n",
    "\n",
    "print(equalize_lengths(['крот', 'белка', 'выхухоль']))\n",
    "# ['выхухоль', 'белка___', 'крот____']\n",
    "\n",
    "print(equalize_lengths(['a', 'aa', 'aaa', 'aaaa', 'aaaaa']))\n",
    "# ['aaaaa', 'aaaa_', 'aaa__', 'aa___', 'a____']\n",
    "\n",
    "print(equalize_lengths(['qweasdqweas', 'q', 'rteww', 'ewqqqqq']))\n",
    "\n",
    "# ['qweasdqweas', 'ewqqqqq____', 'rteww______', 'q__________']\n"
   ]
  },
  {
   "cell_type": "code",
   "execution_count": 109,
   "metadata": {},
   "outputs": [
    {
     "name": "stdout",
     "output_type": "stream",
     "text": [
      "['выхухоль', 'белка___', 'крот____']\n",
      "['aaaaa', 'aaaa_', 'aaa__', 'aa___', 'a____']\n",
      "['qweasdqweas', 'ewqqqqq____', 'rteww______', 'q__________']\n"
     ]
    }
   ],
   "source": [
    "def equalize_lengths(a):   \n",
    "    l = []\n",
    "    sorted_lst = sorted(a, key=lambda x: len(x), reverse=True)\n",
    "    # print(sorted_lst)\n",
    "    g = len(sorted_lst[0])\n",
    "    for i in range(len(sorted_lst)):\n",
    "        # метод строки ljust(), который выравнивает текст по ширине, по умолчанию, добавляя пробелы в конец текста\n",
    "        l.append(sorted_lst[i].ljust(g, '_'))\n",
    "    return l\n",
    "\n",
    "print(equalize_lengths(['крот', 'белка', 'выхухоль']))\n",
    "# ['выхухоль', 'белка___', 'крот____']\n",
    "print(equalize_lengths(['a', 'aa', 'aaa', 'aaaa', 'aaaaa']))\n",
    "# ['aaaaa', 'aaaa_', 'aaa__', 'aa___', 'a____']\n",
    "print(equalize_lengths(['qweasdqweas', 'q', 'rteww', 'ewqqqqq']))\n",
    "# ['qweasdqweas', 'ewqqqqq____', 'rteww______', 'q__________']\n"
   ]
  },
  {
   "cell_type": "code",
   "execution_count": 110,
   "metadata": {},
   "outputs": [
    {
     "name": "stdout",
     "output_type": "stream",
     "text": [
      "1\n",
      "-1\n",
      "0\n"
     ]
    }
   ],
   "source": [
    "def check_number_sign(number):\n",
    "    if number > 0:\n",
    "        return 1\n",
    "    elif number == 0:\n",
    "        return 0\n",
    "    return -1\n",
    "\n",
    "print(check_number_sign(5290))\n",
    "# 1\n",
    "print(check_number_sign(-983))\n",
    "# - 1\n",
    "print(check_number_sign(0))\n",
    "# 0\n"
   ]
  },
  {
   "cell_type": "code",
   "execution_count": 111,
   "metadata": {},
   "outputs": [
    {
     "name": "stdout",
     "output_type": "stream",
     "text": [
      "19\n",
      "10.9\n"
     ]
    }
   ],
   "source": [
    "def find_min_number(a,b,c):\n",
    "    if a < b and a < c:\n",
    "        return a\n",
    "    elif b < a and b < c:\n",
    "        return b\n",
    "    elif c < a and c < b:\n",
    "        return c \n",
    "\n",
    "\n",
    "print(find_min_number(130, 122, 19))\n",
    "# 19\n",
    "print(find_min_number(10.9, 12.2, 18.4))\n",
    "# 10.9\n"
   ]
  },
  {
   "cell_type": "code",
   "execution_count": 116,
   "metadata": {},
   "outputs": [
    {
     "name": "stdout",
     "output_type": "stream",
     "text": [
      "3\n",
      "-9\n"
     ]
    }
   ],
   "source": [
    "def sum_min_numbers(a,b,c):\n",
    "    if a < c and b < c:\n",
    "        return a + b\n",
    "    elif b < a and c < a:\n",
    "        return b + c\n",
    "    elif c < b and a < b:\n",
    "        return c + a\n",
    "        \n",
    "print(sum_min_numbers(1, 2, 3))\n",
    "# 3\n",
    "print(sum_min_numbers(1, 2, -10))\n",
    "# -9\n"
   ]
  },
  {
   "cell_type": "code",
   "execution_count": 128,
   "metadata": {},
   "outputs": [
    {
     "name": "stdout",
     "output_type": "stream",
     "text": [
      "5.25\n",
      "Zero division error!\n",
      "None\n"
     ]
    }
   ],
   "source": [
    "def division(a, b):\n",
    "    try:\n",
    "        c = a/b\n",
    "    except ZeroDivisionError:\n",
    "        print(\"Zero division error!\")\n",
    "    else:\n",
    "        return c\n",
    "    return \n",
    "\n",
    "print(division(189, 36))\n",
    "# 5.25\n",
    "print(division(1, 0))\n",
    "# Zero division error!\n",
    "# None\n"
   ]
  },
  {
   "cell_type": "code",
   "execution_count": 130,
   "metadata": {},
   "outputs": [
    {
     "name": "stdout",
     "output_type": "stream",
     "text": [
      "300.5\n",
      "65.7\n",
      "-64.1\n",
      "0.7\n",
      "1023\n"
     ]
    }
   ],
   "source": [
    "def get_prediction(x1,x2):\n",
    "    if x1 < 20:\n",
    "        if x2 < 200:\n",
    "            return 300.5\n",
    "        return 65.7\n",
    "    else:\n",
    "        if x2 < 170:\n",
    "            if x1 < 40:\n",
    "                return -64.1\n",
    "            return 0.7\n",
    "        return 1023\n",
    "         \n",
    "print(get_prediction(x1=15, x2=150))\n",
    "# 300.5\n",
    "print(get_prediction(x1=15, x2=350))\n",
    "# 65.7\n",
    "print(get_prediction(x1=35, x2=100))\n",
    "# -64.1\n",
    "print(get_prediction(x1=175, x2=100))\n",
    "# 0.7\n",
    "print(get_prediction(x1=175, x2=200))\n",
    "# 1023\n"
   ]
  },
  {
   "cell_type": "code",
   "execution_count": 137,
   "metadata": {},
   "outputs": [
    {
     "name": "stdout",
     "output_type": "stream",
     "text": [
      "[4, 4.2, 42.2, -3.4, -5.2]\n",
      "[42.2]\n",
      "[]\n"
     ]
    }
   ],
   "source": [
    "def more_than_n(lst,n):\n",
    "    lst_new = []\n",
    "    for x in range(len(lst)):\n",
    "        if abs(lst[x]) > n:\n",
    "            lst_new.append(lst[x])\n",
    "    return lst_new\n",
    "\n",
    "print(more_than_n([-1, 4, 4.2, 42.2, -3.4, -5.2], 3))\n",
    "# [4, 4.2, 42.2, -3.4, -5.2]\n",
    "print(more_than_n([-1, 4, 4.2, 42.2, -3.4, -5.2], 10))\n",
    "# [42.2]\n",
    "print(more_than_n([], 10))\n",
    "# []\n"
   ]
  },
  {
   "cell_type": "code",
   "execution_count": 159,
   "metadata": {},
   "outputs": [
    {
     "name": "stdout",
     "output_type": "stream",
     "text": [
      "True\n",
      "False\n"
     ]
    }
   ],
   "source": [
    "\n",
    "def lucky_ticket(num): \n",
    "    n = str(num) \n",
    "    qqq = 0 \n",
    "    www = 0\n",
    "    y = 0\n",
    "    for x in range(len(n)):\n",
    "        y += 1\n",
    "        if y <= 3:\n",
    "            qqq += int(n[x])\n",
    "        else:\n",
    "            www += int(n[x])\n",
    "    return qqq==www\n",
    "\n",
    "print(lucky_ticket(111111))\n",
    "# True\n",
    "print(lucky_ticket(123456))\n",
    "\n",
    "# False\n"
   ]
  },
  {
   "cell_type": "code",
   "execution_count": 169,
   "metadata": {},
   "outputs": [
    {
     "name": "stdout",
     "output_type": "stream",
     "text": [
      "2\n",
      "2\n",
      "6\n"
     ]
    }
   ],
   "source": [
    "# Напишите функцию holes_count(), которая принимает на вход число number, подсчитывает общее количество отверстий в заданном числе и возвращает результат.\n",
    "\n",
    "# Условимся, что цифрами с отверстиями будем считать 0, 4, 6, 8 и 9. Причём в цифре 8 отверстий два, а в остальных — по одному\n",
    "def holes_count(number):\n",
    "    result = 0\n",
    "    number_str = str(number)\n",
    "    for x in range(len(number_str)):\n",
    "        if int(number_str[x]) == 0 or int(number_str[x])==4 or int(number_str[x]) ==6 or int(number_str[x]) ==9:\n",
    "            result += 1\n",
    "            #print(result)\n",
    "        elif int(number_str[x]) == 8:\n",
    "            result +=2\n",
    "    return result\n",
    "             \n",
    "print(holes_count(8))\n",
    "# 2\n",
    "print(holes_count(146))\n",
    "# 2\n",
    "print(holes_count(84628))\n",
    "# 6\n"
   ]
  },
  {
   "cell_type": "code",
   "execution_count": 179,
   "metadata": {},
   "outputs": [
    {
     "name": "stdout",
     "output_type": "stream",
     "text": [
      "5\n"
     ]
    }
   ],
   "source": [
    "# Напишите функцию even_numbers_in_matrix(), которая получает на вход матрицу (список из списков) matrix и возвращает количество чётных чисел в ней.\n",
    "\n",
    "# Гарантируется, что все элементы в матрице matrix являются числами.\n",
    "\n",
    "matrix_example = [\n",
    "    [1, 5, 4],\n",
    "    [4, 2, -2],\n",
    "    [7, 65, 88]\n",
    "]\n",
    "def even_numbers_in_matrix(matrix):\n",
    "    # количество четных чисел\n",
    "    result = 0\n",
    "    for x in matrix:\n",
    "        # print(x)\n",
    "        for i in x:\n",
    "            if i % 2 == 0:\n",
    "                result +=1\n",
    "    return result\n",
    "print(even_numbers_in_matrix(matrix=matrix_example))\n",
    "# 5\n"
   ]
  },
  {
   "cell_type": "code",
   "execution_count": 42,
   "metadata": {},
   "outputs": [
    {
     "name": "stdout",
     "output_type": "stream",
     "text": [
      "Error! Matrices dimensions are different!\n",
      "None\n"
     ]
    }
   ],
   "source": [
    "#1 2 3   2 3 4   1+2 2+3 3+4   3 5 7\n",
    "#2 3 4 + 4 5 6 = 2+4 3+5 4+6 = 6 8 10\n",
    "#5 6 7   4 3 2   5+4 6+3 7+2   9 9 9\n",
    "\n",
    "\n",
    "def matrix_sum(matrix1, matrix2):\n",
    "    prom = []\n",
    "    result = []   \n",
    "    if len(matrix1) == len(matrix2):\n",
    "        for x in range(len(matrix1)): #    0-2  \n",
    "            if len(matrix1[x])== len(matrix2[x]): #  [10, 15, 43] ==  [10, 15, 43]                           \n",
    "                for y in range(len(matrix1[x])): # 0 - 2                                    \n",
    "                    prom.append(matrix1[x][y] + matrix2[x][y])\n",
    "                result.append(prom)\n",
    "                prom = []\n",
    "            else: \n",
    "                print(\"Error! Matrices dimensions are different!\")\n",
    "                return None                \n",
    "    else:\n",
    "        print(\"Error! Matrices dimensions are different!\")\n",
    "        return None\n",
    "    return result\n",
    "\n",
    "matrix1_example = [\n",
    "          [1, 5, 4, 5],\n",
    "          [4, 2, -2, -5],\n",
    "          [4, 6, -2, -5]\n",
    "]\n",
    "\n",
    "matrix2_example = [\n",
    "          [10, 15, 43],\n",
    "          [41, 2, -2],\n",
    "          [7, 5, 7]\n",
    "]\n",
    "\n",
    "print(matrix_sum(matrix1=matrix1_example, matrix2=matrix2_example))"
   ]
  },
  {
   "cell_type": "code",
   "execution_count": 65,
   "metadata": {},
   "outputs": [
    {
     "name": "stdout",
     "output_type": "stream",
     "text": [
      "age: 28\n",
      "first_name: John\n",
      "last_name: Doe\n",
      "position: Python developer\n",
      "age: 32\n",
      "first_name: Jack\n",
      "last_name: Smith\n",
      "position: Project manager\n",
      "work_experience: 5 years\n"
     ]
    }
   ],
   "source": [
    "# Напишите функцию print_personal_data(), которая должна принимать на вход неизвестное количество \n",
    "# именованных аргументов (персональных данных) в любом порядке и выводить их в виде аргумент: значение \n",
    "# в отсортированном по алфавиту порядке имён аргументов.\n",
    "def print_personal_data(**kwargs):\n",
    "    pp = dict(sorted(kwargs.items()))\n",
    "    for y in pp:\n",
    "        print (y+':',pp[y])\n",
    "  \n",
    "print_personal_data(first_name='John', last_name='Doe', age=28, position='Python developer')\n",
    "# age: 28\n",
    "# first_name: John\n",
    "# last_name: Doe\n",
    "# position: Python developer\n",
    "\n",
    "print_personal_data(first_name='Jack', last_name='Smith', age=32, work_experience = '5 years', position='Project manager')\n",
    "# age: 32\n",
    "# first_name: Jack\n",
    "# last_name: Smith\n",
    "# position: Project manager\n",
    "# work_experience: 5 years\n"
   ]
  },
  {
   "cell_type": "code",
   "execution_count": 114,
   "metadata": {},
   "outputs": [
    {
     "name": "stdout",
     "output_type": "stream",
     "text": [
      "['arrakis', 'the', 'planet', 'known', 'as', 'dune', 'is', 'forever', 'his', 'place']\n"
     ]
    }
   ],
   "source": [
    "# Напишите функцию get_words_list(), которая:\n",
    "# - избавляется от знаков препинания в тексте,\n",
    "# - приводит текст к нижнему регистру,\n",
    "# - возвращает список из слов в тексте.\n",
    "\n",
    "def get_words_list(text):\n",
    "    punctuation_list = ['.', ',', ';', ':', '...', '!', '?', '-', '\"', '(', ')']\n",
    "    text_lower = text.lower()\n",
    "    dd = []\n",
    "    for x in punctuation_list:\n",
    "        text_lower = (text_lower.replace(x, '')) \n",
    "    dd = text_lower.split(' ')\n",
    "    return dd\n",
    "\n",
    "text_example = \"Arrakis, the planet known as Dune, is forever his place.\"\n",
    "print(get_words_list(text=text_example))\n",
    "# ['arrakis', 'the', 'planet', 'known', 'as', 'dune', 'is', 'forever', 'his', 'place']\n"
   ]
  },
  {
   "cell_type": "code",
   "execution_count": 127,
   "metadata": {},
   "outputs": [
    {
     "name": "stdout",
     "output_type": "stream",
     "text": [
      "['and', 'arrakis', 'as', 'be', 'born', 'by', 'caladan', 'care', 'deceived', 'do', 'dune', 'fact', 'fifteen', 'first', 'forever', 'he', 'his', 'in', 'is', 'known', 'lived', 'locate', 'most', \"muad'dib\", 'not', 'on', 'place', 'planet', 'special', 'take', 'that', 'the', 'there', 'was', 'years', 'you']\n"
     ]
    }
   ],
   "source": [
    "# Напишите функцию get_unique_words(), которая принимает на вход аргумент words_list (список из слов) и \n",
    "# возвращает упорядоченный по алфавиту список уникальных слов.\n",
    "\n",
    "# Гарантируется, что на вход функции подаётся список из слов, приведённых к единому регистру.\n",
    "\n",
    "def get_unique_words(words_list):\n",
    "    d = list(set(words_list))\n",
    "    d.sort()\n",
    "    return d\n",
    "words_list_example = ['and', 'take', 'the', 'most', 'special', 'care', 'that', 'you', 'locate', \"muad'dib\", 'in', 'his', 'place', 'the', 'planet', 'arrakis', 'do', 'not', 'be', 'deceived', 'by', 'the', 'fact', 'that', 'he', 'was', 'born', 'on', 'caladan', 'and', 'lived', 'his', 'first', 'fifteen', 'years', 'there', 'arrakis', 'the', 'planet', 'known', 'as', 'dune', 'is', 'forever', 'his', 'place']\n",
    "\n",
    "print(get_unique_words(words_list=words_list_example))\n",
    "## ['and', 'arrakis', 'as', 'be', 'born', 'by', 'caladan', 'care', 'deceived', 'do', 'dune', 'fact', 'fifteen', 'first', 'forever', 'he', 'his', 'in', 'is', 'known', 'lived', 'locate', 'most', \"muad'dib\", 'not', 'on', 'place', 'planet', 'special', 'take', 'that', 'the', 'there', 'was', 'years', 'you']\n"
   ]
  },
  {
   "cell_type": "code",
   "execution_count": null,
   "metadata": {},
   "outputs": [],
   "source": [
    "pp = dict(sorted(kwargs.items()))"
   ]
  },
  {
   "cell_type": "code",
   "execution_count": 26,
   "metadata": {},
   "outputs": [
    {
     "name": "stdout",
     "output_type": "stream",
     "text": [
      "the\n",
      "и\n",
      "\n"
     ]
    }
   ],
   "source": [
    "# Напишите функцию get_most_frequent_word(), которая возвращает наиболее часто встречающееся слово в тексте, переданном в \n",
    "# функцию в качестве аргумента text.\n",
    "\n",
    "# Предварительно очистите текст от знаков препинания и приведите его к единому регистру (слова в верхнем и нижнем регистре \n",
    "# считаются одним и тем же словом). В этом вам может помочь функция get_words_list(), которую мы реализовали ранее. Сделайте её \n",
    "# внутренней функцией функции get_most_frequent_word().\n",
    "\n",
    "# Для решения задачи вам также пригодится список уникальных слов в тексте. Чтобы создать его, воспользуйтесь функцией \n",
    "# get_unique_words() из предыдущего задания. Также сделайте её внутренней по отношению к функции get_most_frequent_word().\n",
    "\n",
    "# Примечание. Если в тексте встречаются два слова с одинаковой частотностью, функция должна возвращать то, которое начинается \n",
    "# с буквы, стоящей ближе к началу алфавита. Например, если слова «я» и «меня» встречаются одинаковое количество раз, то функция\n",
    "# должна вернуть слово «меня».\n",
    "\n",
    "# В случае, если в функцию была передана пустая строка, она также должна возвращать пустую строку.\n",
    " \n",
    "def get_most_frequent_word(text):\n",
    "    if text == '':\n",
    "        return ''\n",
    "        \n",
    "    def get_words_list(text):\n",
    "        punctuation_list = ['.', ',', ';', ':', '...', '!', '?', '-', '\"', '(', ')']\n",
    "        text_lower = text.lower()\n",
    "        dd = []\n",
    "        for x in punctuation_list:\n",
    "            text_lower = (text_lower.replace(x, '')) \n",
    "        dd = text_lower.split(' ')\n",
    "        return dd\n",
    "    result_text = get_words_list(text)\n",
    "    def get_unique_words(text):\n",
    "        text_set = set(result_text)\n",
    "        return text_set\n",
    "    result_text_unique = get_unique_words(result_text)\n",
    "   \n",
    "    volume = 0\n",
    "    dict_text = {}\n",
    "   \n",
    "    for i in result_text_unique:\n",
    "        volume = result_text.count(i)\n",
    "        dict_text[i] = volume\n",
    "    # print(dict_text)\n",
    "    sorted_tuple = sorted(dict_text.items(), key=lambda x: x[1], reverse = True)\n",
    "    return sorted_tuple[0][0]\n",
    "    \n",
    "    \n",
    "text_example = \"A beginning is the time for taking the most delicate care that the balances are correct. This every sister of the Bene Gesserit knows. To begin your study of the life of Muad'Dib, then take care that you first place him in his time: born in the 57th year of the Padishah Emperor, Shaddam IV. And take the most special care that you locate Muad'Dib in his place: the planet Arrakis. Do not be deceived by the fact that he was born on Caladan and lived his first fifteen years there. Arrakis, the planet known as Dune, is forever his place.\"\n",
    "print(get_most_frequent_word(text_example))\n",
    "# the\n",
    "\n",
    "text_example = \"Есть урок, который идет не сорок пять минут, а всю жизнь. Этот урок проходит и в классе, и в поле, и дома, и в лесу. Я назвал этот урок седьмым потому, что в школе обычно бывает не больше шести уроков. Не удивляйтесь, если я скажу, что учителем на этом уроке может быть и береза возле вашего дома, и бабушка, и вы сами (В. Песков)\"\n",
    "print(get_most_frequent_word(text_example))\n",
    "# и\n",
    "text_example  = ''\n",
    "print(get_most_frequent_word(text_example))\n"
   ]
  },
  {
   "cell_type": "code",
   "execution_count": 113,
   "metadata": {},
   "outputs": [
    {
     "name": "stdout",
     "output_type": "stream",
     "text": [
      "[('Amanda', 37, 78, 67, 182), ('Marcos', 79, 67, 89, 235), ('Dmitry', 67, 68, 100, 235), ('Patricia', 78, 93, 68, 239), ('Andrey', 100, 78, 76, 254), ('Victoria', 93, 69, 96, 258)]\n"
     ]
    }
   ],
   "source": [
    "# Представьте, что вы работаете аналитиком в Рособрнадзоре и анализируете данные о сдаче ЕГЭ школьниками.\n",
    "\n",
    "# В вашем распоряжении есть список кортежей data. Каждый кортеж в нём состоит из четырёх элементов:\n",
    "# - имя человека,\n",
    "# - балл за экзамен по русскому языку,\n",
    "# - балл за экзамен по математике,\n",
    "# - балл за экзамен по информатике.\n",
    "# Напишите функцию get_total_score(), которая принимает на вход список data, добавляет в каждый кортеж новый элемент — общий\n",
    "# балл по всем трём экзаменам, сортирует данные по общему баллу и возвращает полученный результат.\n",
    "\n",
    "\n",
    "data = [\n",
    "    ('Amanda', 37, 78, 67),\n",
    "    ('Patricia', 78, 93, 68),\n",
    "    ('Marcos', 79, 67, 89),\n",
    "    ('Dmitry', 67, 68, 100),\n",
    "    ('Andrey', 100, 78, 76),\n",
    "    ('Victoria', 93, 69, 96),\n",
    "]\n",
    "def get_total_score(data):\n",
    "    ss = lambda x: (*x, round((x[1]+x[2]+x[3])))\n",
    "    new_list = list(map(ss, data))\n",
    "    new_list.sort(key=lambda a: a[4])\n",
    "    return new_list\n",
    "\n",
    "\n",
    "print(get_total_score(data))\n",
    "# [('Amanda', 37, 78, 67, 182), ('Marcos', 79, 67, 89, 235), ('Dmitry', 67, 68, 100, 235), ('Patricia', 78, 93, 68, 239), ('Andrey', 100, 78, 76, 254), ('Victoria', 93, 69, 96, 258)]\n"
   ]
  },
  {
   "cell_type": "code",
   "execution_count": 25,
   "metadata": {},
   "outputs": [
    {
     "name": "stdout",
     "output_type": "stream",
     "text": [
      "['vid001', 'vid002', 'vid003', 'vid004', 'vid005', 'vid006', 'vid007', 'vid008', 'vid009', 'vid010']\n",
      "['vid001', 'vid002', 'vid003', 'vid004', 'vid005', 'vid006', 'vid07']\n",
      "['vid001', 'vid002', 'vid003', 'vid004', 'vid005', 'vid006', 'vid007', 'vid008', 'vid009', 'vid010']\n"
     ]
    }
   ],
   "source": [
    "# Дан словарь data, содержащий в себе несколько вложенных структур данных. Некоторые из них (независимо от вложенности) содержат ключ \"videoID\".\n",
    "# Значениями для таких ключей являются идентификаторы видео.\n",
    "\n",
    "# Напишите рекурсивную функцию find_video(), которая извлекает все значения с ключом \"videoID\". Функция должна принимать на вход словарь data и \n",
    "# возвращать список из найденных идентификаторов видео.\n",
    "\n",
    "data = {\n",
    "    \"type\": \"video\",\n",
    "    \"videoID\": \"vid001\",\n",
    "    \"links\": [\n",
    "        {\"type\":\"video\", \"videoID\":\"vid002\", \"links\":[]},\n",
    "        {   \"type\":\"video\",\n",
    "            \"videoID\":\"vid003\",\n",
    "            \"links\": [\n",
    "            {\"type\": \"video\", \"videoID\":\"vid004\"},\n",
    "            {\"type\": \"video\", \"videoID\":\"vid005\"},\n",
    "            ]\n",
    "        },\n",
    "        {\"type\":\"video\", \"videoID\":\"vid006\"},\n",
    "        {   \"type\":\"video\",\n",
    "            \"videoID\":\"vid007\",\n",
    "            \"links\": [\n",
    "            {\"type\":\"video\", \"videoID\":\"vid008\", \"links\": [\n",
    "                {   \"type\":\"video\",\n",
    "                    \"videoID\":\"vid009\",\n",
    "                    \"links\": [{\"type\":\"video\", \"videoID\":\"vid010\"}]\n",
    "                }\n",
    "            ]}\n",
    "        ]},\n",
    "    ]\n",
    "}\n",
    "def  find_video(data, key = None):\n",
    "    key = \"videoID\"\n",
    "    result = []\n",
    "    if isinstance(data, dict):\n",
    "        if key in data:\n",
    "            result. append(data[key])\n",
    "            for value in data.values():\n",
    "                result.extend(find_video(value, key))\n",
    "\n",
    "        else:\n",
    "            for value in data.values():\n",
    "                result.extend(find_video(value, key))\n",
    "  \n",
    "    elif isinstance(data, list):\n",
    "        for item in data:\n",
    "            result.extend(find_video(item, key))\n",
    "    return result\n",
    "\n",
    "\n",
    "\n",
    "print(find_video(data))\n",
    "\n",
    "print(find_video(data = {'type': 'video', 'links': [{'type': 'video', 'videoID': 'vid001', 'links': [{'type': 'video', 'videoID': 'vid002'}, {'type': 'video', 'videoID': 'vid003'}]}, {'type': 'video', 'videoID': 'vid004', 'links': [{'type': 'video', 'videoID': 'vid005', 'links': [{'type': 'video', 'videoID': 'vid006', 'links': [{'type': 'video', 'videoID': 'vid07'}]}]}]}]}))\n",
    "# Ожидаемый ответ:  ['vid001', 'vid002', 'vid003', 'vid004', 'vid005', 'vid006', 'vid07']\n",
    "\n",
    "print(find_video(data = {'type': 'video', 'videoID': 'vid001', 'links': [{'type': 'video', 'videoID': 'vid002', 'links': 'oooooo'}, {'type': 'video', 'videoID': 'vid003', 'links': [{'type': 'video', 'videoID': 'vid004'}, {'type': 'video', 'videoID': 'vid005'}]}, {'type': 'video', 'videoID': 'vid006'}, {'type': 'video', 'videoID': 'vid007', 'links': [{'type': 'video', 'videoID': 'vid008', 'links': [{'type': 'video', 'videoID': 'vid009', 'links': [{'type': 'video', 'videoID': 'vid010'}]}]}]}]}))\n"
   ]
  },
  {
   "cell_type": "code",
   "execution_count": 32,
   "metadata": {},
   "outputs": [
    {
     "name": "stdout",
     "output_type": "stream",
     "text": [
      "{'пармезан': 29, 'гауда': 27, 'камамбер': 24, 'бри': 28}\n",
      "{'камамбер': 24}\n"
     ]
    }
   ],
   "source": [
    "# Один из клиентов сыроварни — магазин здорового питания. Им важно, чтобы сыры, которые им поставляет сыроварня, имели жирность менее n %.\n",
    "\n",
    "# Информация о жирности каждого из сыров хранится в словаре cheese_data.\n",
    "\n",
    "# Напишите функцию filter_by_fat(), которая принимает на вход словарь cheese_data и число n и возвращает словарь, ключами которого являются названия\n",
    "# сыров, подходящих под заданные критерии, а значениями — их жирность.\n",
    "\n",
    "cheese_data = {\n",
    "    'чеддер': [370, 5000, 33, 'твердый'],\n",
    "    'пармезан': [510, 4000, 29, 'твердый'],\n",
    "    'гауда': [250, 3700, 27, 'полутвердый'],\n",
    "    'эдам': [220, 10000, 30, 'полутвердый'],\n",
    "    'горгонзола': [320, 3000, 32, 'полумягкий'],\n",
    "    'рокфор': [340, 15000, 31, 'полумягкий'],\n",
    "    'стилтон': [360, 7000, 35, 'полумягкий'],\n",
    "    'камамбер': [250, 8000, 24, 'мягкий'],\n",
    "    'бри': [310, 6500, 28, 'мягкий'],\n",
    "}\n",
    "def filter_by_fat(cheese_data, n):\n",
    "    result = {}\n",
    "    for keys, items in cheese_data.items():\n",
    "        if items[2] < n:\n",
    "            result[keys] = items[2]\n",
    "    return result \n",
    "    \n",
    "\n",
    "print(filter_by_fat(cheese_data, n=30))\n",
    "# {'пармезан': 29, 'гауда': 27, 'камамбер': 24, 'бри': 28}\n",
    "\n",
    "print(filter_by_fat(cheese_data, n=25))\n",
    "# {'камамбер': 24}"
   ]
  },
  {
   "cell_type": "code",
   "execution_count": 36,
   "metadata": {},
   "outputs": [
    {
     "name": "stdout",
     "output_type": "stream",
     "text": [
      "196100000\n"
     ]
    }
   ],
   "source": [
    "# Владелец сыроварни хочет расширить производство сыра до максимально возможных объёмов.\n",
    "\n",
    "# В словаре cheese_data есть данные о закупочной цене и максимальных объёмах производства каждого из выпускаемых сыров.\n",
    "\n",
    "# Реализуйте функцию count_money(), которая принимает на вход словарь cheese_data и рассчитывает, сколько денег (в рублях) сможет в месяц \n",
    "# зарабатывать сыроварня, если будет производить максимально возможное количество сыра.\n",
    "\n",
    "# Не забудьте учесть, что в словаре закупочная цена указана за 100 грамм, а максимальный объём производства — в килограммах в месяц.\n",
    "\n",
    "cheese_data = {\n",
    "    'чеддер': [370, 5000, 33, 'твердый'],\n",
    "    'пармезан': [510, 4000, 29, 'твердый'],\n",
    "    'гауда': [250, 3700, 27, 'полутвердый'],\n",
    "    'эдам': [220, 10000, 30, 'полутвердый'],\n",
    "    'горгонзола': [320, 3000, 32, 'полумягкий'],\n",
    "    'рокфор': [340, 15000, 31, 'полумягкий'],\n",
    "    'стилтон': [360, 7000, 35, 'полумягкий'],\n",
    "    'камамбер': [250, 8000, 24, 'мягкий'],\n",
    "    'бри': [310, 6500, 28, 'мягкий'],\n",
    "}\n",
    "def count_money(cheese_data):\n",
    "    result = 0\n",
    "    for values in cheese_data.values():\n",
    "        result += values[0]*values[1]*10\n",
    "    return result\n",
    "\n",
    "print(count_money(cheese_data))\n",
    "## 196100000"
   ]
  },
  {
   "cell_type": "code",
   "execution_count": 38,
   "metadata": {},
   "outputs": [
    {
     "data": {
      "text/plain": [
       "['камамбер', 'бри']"
      ]
     },
     "execution_count": 38,
     "metadata": {},
     "output_type": "execute_result"
    }
   ],
   "source": [
    "# Сыроварне необходимо узнать, какие типы сыров пользуются наибольшим спросом у клиентов, чтобы организовать производство этих сыров согласно срокам их созревания.\n",
    "\n",
    "# Напишите функцию find_cheese_type(), которая по запросу типа сыра формирует список из названий сыров данного типа и возвращает его.\n",
    "\n",
    "# В качестве параметров в функцию передаются словарь cheese_data и строка cheese_type с искомым типом сыра. При этом порядок необходимо соблюдать, \n",
    "# согласно условию: сначала — словарь, затем — искомый тип сыра.\n",
    "\n",
    "cheese_data = {\n",
    "    'чеддер': [370, 5000, 33, 'твердый'],\n",
    "    'пармезан': [510, 4000, 29, 'твердый'],\n",
    "    'гауда': [250, 3700, 27, 'полутвердый'],\n",
    "    'эдам': [220, 10000, 30, 'полутвердый'],\n",
    "    'горгонзола': [320, 3000, 32, 'полумягкий'],\n",
    "    'рокфор': [340, 15000, 31, 'полумягкий'],\n",
    "    'стилтон': [360, 7000, 35, 'полумягкий'],\n",
    "    'камамбер': [250, 8000, 24, 'мягкий'],\n",
    "    'бри': [310, 6500, 28, 'мягкий'],\n",
    "}\n",
    "def find_cheese_type(cheese_data, cheese_type):\n",
    "    result = []\n",
    "    for key, values in cheese_data.items():\n",
    "        if cheese_type in values:\n",
    "            result.append(key)\n",
    "    return result\n",
    "\n",
    "\n",
    "\n",
    "\n",
    "\n",
    "find_cheese_type(cheese_data, cheese_type='мягкий')\n",
    "# ['камамбер', 'бри']\n",
    "#\n",
    "find_cheese_type(cheese_data, cheese_type='полумягкий')\n",
    "# ['горгонзола', 'рокфор', 'стилтон']\n",
    "\n",
    " \n"
   ]
  },
  {
   "cell_type": "code",
   "execution_count": 1,
   "metadata": {},
   "outputs": [
    {
     "name": "stdout",
     "output_type": "stream",
     "text": [
      "Вы продублировали ингредиент молоко в заказе 6 раз(а)\n",
      "Вы продублировали ингредиент бактерии в заказе 2 раз(а)\n",
      "Вы продублировали ингредиент соль в заказе 3 раз(а)\n"
     ]
    }
   ],
   "source": [
    "def purchase(ingredients):\n",
    "    if len(ingredients) == len(set(ingredients)):\n",
    "        print(\"Ваш заказ оформлен верно\")\n",
    "    else:\n",
    "        x = []\n",
    "        for char in ingredients:\n",
    "            if char not in x:\n",
    "                x.append(char)\n",
    "                if ingredients.count(char) > 1:                           \n",
    "                    print(f\"Вы продублировали ингредиент {char} в заказе {ingredients.count(char)} раз(а)\")\n",
    "   \n",
    "purchase(['молоко', 'молоко', 'бактерии', 'молоко', 'сливки', 'фермент', 'закваска', 'молоко', 'соль', 'молоко', 'бактерии', 'молоко', 'кислота лимонная', 'грибки', 'соль', 'дрожжи', 'кислота уксусная', 'кальций', 'калий', 'каротин', 'аннато', 'специя', 'пряность', 'ароматизатор', 'соль', 'кислота молочная'])\n",
    "\n",
    "\n",
    "# Вы продублировали ингредиент молоко в заказе 6 раз(а)\n",
    "# Вы продублировали ингредиент бактерии в заказе 2 раз(а)\n",
    "# Вы продублировали ингредиент соль в заказе 3 раз(а)\n"
   ]
  }
 ],
 "metadata": {
  "kernelspec": {
   "display_name": "Python 3",
   "language": "python",
   "name": "python3"
  },
  "language_info": {
   "codemirror_mode": {
    "name": "ipython",
    "version": 3
   },
   "file_extension": ".py",
   "mimetype": "text/x-python",
   "name": "python",
   "nbconvert_exporter": "python",
   "pygments_lexer": "ipython3",
   "version": "3.12.1"
  }
 },
 "nbformat": 4,
 "nbformat_minor": 2
}
