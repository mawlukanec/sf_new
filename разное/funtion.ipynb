{
 "cells": [
  {
   "cell_type": "code",
   "execution_count": 2,
   "metadata": {},
   "outputs": [
    {
     "name": "stdout",
     "output_type": "stream",
     "text": [
      "Hours: 1\n",
      "Minutes left: 30\n"
     ]
    }
   ],
   "source": [
    "def print_hours(minutes):\n",
    "    # // — это оператор целочисленного деления\n",
    "    hours = minutes // 60\n",
    "    # % — это оператор получения остатка от деления\n",
    "    left_minutes = minutes % 60\n",
    "    print(\"Hours:\", hours)\n",
    "    print(\"Minutes left:\", left_minutes)\n",
    "    \n",
    "\n",
    "\n",
    "print_hours(90)\n",
    "# Будет напечатано:\n",
    "# Hours: 1\n",
    "# Minutes left: 30"
   ]
  },
  {
   "cell_type": "code",
   "execution_count": 10,
   "metadata": {},
   "outputs": [
    {
     "name": "stdout",
     "output_type": "stream",
     "text": [
      "260.9\n"
     ]
    }
   ],
   "source": [
    "# Назовём функцию get_time (get — получать,\n",
    "# time — время). Она принимает аргументы\n",
    "# distance — расстояние и speed — скорость.\n",
    "result = 0\n",
    "def get_time(distance, speed):\n",
    "    # В переменную result сохраним результат\n",
    "    # деления расстояния на скорость.\n",
    "    result = distance / speed\n",
    "\n",
    "    # Чтобы вернуть результат вычислений,\n",
    "    # пишем оператор return и название переменной,\n",
    "    # значение которой будет передано.\n",
    "    return result\n",
    "time = get_time(15654, 60)\n",
    "print(time)\n"
   ]
  },
  {
   "cell_type": "code",
   "execution_count": 11,
   "metadata": {},
   "outputs": [
    {
     "name": "stdout",
     "output_type": "stream",
     "text": [
      "(1, 12)\n"
     ]
    }
   ],
   "source": [
    "def get_time_tuple(distance, speed):\n",
    "    # Получаем целое число часов в пути\n",
    "    hours = distance // speed\n",
    "    # Получаем остаток км в пути\n",
    "    distance_left = distance % speed\n",
    "    # Переводим скорость из км/ч в км/мин:\n",
    "    # за одну минуту можно проехать расстояние\n",
    "    # в 60 раз меньше, чем за 1 час\n",
    "    kms_per_minute = speed / 60\n",
    "    # Делим оставшееся расстояние на скорость в км/мин.\n",
    "    # и округляем до целого\n",
    "    minutes = round(distance_left / kms_per_minute)\n",
    "    \n",
    "    # Перечисляем аргументы через запятую.\n",
    "    # Они будут возвращены функцией в виде кортежа.\n",
    "    return hours, minutes\n",
    "result = get_time_tuple(120, 100)\n",
    "print(result)\n",
    "# Будет напечатано:\n",
    "# (1, 12)"
   ]
  },
  {
   "cell_type": "code",
   "execution_count": 13,
   "metadata": {},
   "outputs": [
    {
     "name": "stdout",
     "output_type": "stream",
     "text": [
      "176\n"
     ]
    }
   ],
   "source": [
    "def get_total(units, price):\n",
    "    total = units*price\n",
    "    return total\n",
    "result = get_total(4, 44)\n",
    "print(result)"
   ]
  },
  {
   "cell_type": "code",
   "execution_count": 1,
   "metadata": {},
   "outputs": [
    {
     "name": "stdout",
     "output_type": "stream",
     "text": [
      "Student’s mark was not found!\n"
     ]
    }
   ],
   "source": [
    "# Создадим тот же словарь\n",
    "grades = {'Ivanov': 5, 'Smirnov': 3, 'Kuznetsova': 4, 'Tihonova': 5}\n",
    "# Только попробуем (try — пробовать) напечатать оценку студента,\n",
    "# которого нет в словаре\n",
    "try:\n",
    "    print(grades['Pavlov'])\n",
    "# А если возникнет ошибка в ключе (KeyError), скажем,\n",
    "# что студента нет в словаре\n",
    "except KeyError:\n",
    "    print(\"Student’s mark was not found!\")\n",
    "# Будет напечатано:\n",
    "# Student’s mark was not found!"
   ]
  },
  {
   "cell_type": "code",
   "execution_count": 8,
   "metadata": {},
   "outputs": [
    {
     "ename": "ValueError",
     "evalue": "Distance or speed cannot be below 0!",
     "output_type": "error",
     "traceback": [
      "\u001b[1;31m---------------------------------------------------------------------------\u001b[0m",
      "\u001b[1;31mValueError\u001b[0m                                Traceback (most recent call last)",
      "Cell \u001b[1;32mIn[8], line 11\u001b[0m\n\u001b[0;32m      9\u001b[0m     result \u001b[38;5;241m=\u001b[39m distance \u001b[38;5;241m/\u001b[39m speed\n\u001b[0;32m     10\u001b[0m     \u001b[38;5;28;01mreturn\u001b[39;00m result\n\u001b[1;32m---> 11\u001b[0m \u001b[38;5;28mprint\u001b[39m(\u001b[43mget_time\u001b[49m\u001b[43m(\u001b[49m\u001b[38;5;241;43m45\u001b[39;49m\u001b[43m,\u001b[49m\u001b[43m \u001b[49m\u001b[38;5;241;43m-\u001b[39;49m\u001b[38;5;241;43m5\u001b[39;49m\u001b[43m)\u001b[49m)\n",
      "Cell \u001b[1;32mIn[8], line 8\u001b[0m, in \u001b[0;36mget_time\u001b[1;34m(distance, speed)\u001b[0m\n\u001b[0;32m      1\u001b[0m \u001b[38;5;28;01mdef\u001b[39;00m \u001b[38;5;21mget_time\u001b[39m(distance, speed):\n\u001b[0;32m      2\u001b[0m     \u001b[38;5;66;03m# Если расстояние или скорость отрицательные, то возвращаем ошибку\u001b[39;00m\n\u001b[0;32m      3\u001b[0m     \u001b[38;5;28;01mif\u001b[39;00m distance \u001b[38;5;241m<\u001b[39m \u001b[38;5;241m0\u001b[39m \u001b[38;5;129;01mor\u001b[39;00m speed \u001b[38;5;241m<\u001b[39m \u001b[38;5;241m0\u001b[39m:\n\u001b[0;32m      4\u001b[0m         \u001b[38;5;66;03m# Оператор raise возвращает (raise — досл. англ. \"поднимать\")\u001b[39;00m\n\u001b[0;32m      5\u001b[0m         \u001b[38;5;66;03m# объект-исключение. В данном случае ValueError (некорректное значение).\u001b[39;00m\n\u001b[0;32m      6\u001b[0m         \u001b[38;5;66;03m# Дополнительно в скобках после слова ValueError пишем текст сообщения\u001b[39;00m\n\u001b[0;32m      7\u001b[0m         \u001b[38;5;66;03m# об ошибке, чтобы сразу было понятно, чем вызвана ошибка.\u001b[39;00m\n\u001b[1;32m----> 8\u001b[0m         \u001b[38;5;28;01mraise\u001b[39;00m \u001b[38;5;167;01mValueError\u001b[39;00m (\u001b[38;5;124m\"\u001b[39m\u001b[38;5;124mDistance or speed cannot be below 0!\u001b[39m\u001b[38;5;124m\"\u001b[39m)\n\u001b[0;32m      9\u001b[0m     result \u001b[38;5;241m=\u001b[39m distance \u001b[38;5;241m/\u001b[39m speed\n\u001b[0;32m     10\u001b[0m     \u001b[38;5;28;01mreturn\u001b[39;00m result\n",
      "\u001b[1;31mValueError\u001b[0m: Distance or speed cannot be below 0!"
     ]
    }
   ],
   "source": [
    "def get_time(distance, speed):\n",
    "    # Если расстояние или скорость отрицательные, то возвращаем ошибку\n",
    "    if distance < 0 or speed < 0:\n",
    "        # Оператор raise возвращает (raise — досл. англ. \"поднимать\")\n",
    "        # объект-исключение. В данном случае ValueError (некорректное значение).\n",
    "        # Дополнительно в скобках после слова ValueError пишем текст сообщения\n",
    "        # об ошибке, чтобы сразу было понятно, чем вызвана ошибка.\n",
    "        raise ValueError (\"Distance or speed cannot be below 0!\")\n",
    "    result = distance / speed\n",
    "    return result\n",
    "print(get_time(45, -5))"
   ]
  },
  {
   "cell_type": "code",
   "execution_count": 9,
   "metadata": {},
   "outputs": [
    {
     "ename": "ValueError",
     "evalue": "Speed cannot be equal to 0!",
     "output_type": "error",
     "traceback": [
      "\u001b[1;31m---------------------------------------------------------------------------\u001b[0m",
      "\u001b[1;31mValueError\u001b[0m                                Traceback (most recent call last)",
      "Cell \u001b[1;32mIn[9], line 8\u001b[0m\n\u001b[0;32m      6\u001b[0m     result \u001b[38;5;241m=\u001b[39m distance \u001b[38;5;241m/\u001b[39m speed\n\u001b[0;32m      7\u001b[0m     \u001b[38;5;28;01mreturn\u001b[39;00m result\n\u001b[1;32m----> 8\u001b[0m \u001b[38;5;28mprint\u001b[39m(\u001b[43mget_time\u001b[49m\u001b[43m(\u001b[49m\u001b[38;5;241;43m45\u001b[39;49m\u001b[43m,\u001b[49m\u001b[43m \u001b[49m\u001b[38;5;241;43m0\u001b[39;49m\u001b[43m)\u001b[49m)\n",
      "Cell \u001b[1;32mIn[9], line 5\u001b[0m, in \u001b[0;36mget_time\u001b[1;34m(distance, speed)\u001b[0m\n\u001b[0;32m      3\u001b[0m     \u001b[38;5;28;01mraise\u001b[39;00m \u001b[38;5;167;01mValueError\u001b[39;00m(\u001b[38;5;124m\"\u001b[39m\u001b[38;5;124mDistance or speed cannot be below 0!\u001b[39m\u001b[38;5;124m\"\u001b[39m)\n\u001b[0;32m      4\u001b[0m \u001b[38;5;28;01mif\u001b[39;00m speed \u001b[38;5;241m==\u001b[39m \u001b[38;5;241m0\u001b[39m:\n\u001b[1;32m----> 5\u001b[0m     \u001b[38;5;28;01mraise\u001b[39;00m \u001b[38;5;167;01mValueError\u001b[39;00m (\u001b[38;5;124m\"\u001b[39m\u001b[38;5;124mSpeed cannot be equal to 0!\u001b[39m\u001b[38;5;124m\"\u001b[39m)\n\u001b[0;32m      6\u001b[0m result \u001b[38;5;241m=\u001b[39m distance \u001b[38;5;241m/\u001b[39m speed\n\u001b[0;32m      7\u001b[0m \u001b[38;5;28;01mreturn\u001b[39;00m result\n",
      "\u001b[1;31mValueError\u001b[0m: Speed cannot be equal to 0!"
     ]
    }
   ],
   "source": [
    "\n",
    "def get_time(distance, speed):\n",
    "    if distance < 0 or speed < 0:\n",
    "        raise ValueError(\"Distance or speed cannot be below 0!\")\n",
    "    if speed == 0:\n",
    "        raise ValueError (\"Speed cannot be equal to 0!\")\n",
    "    result = distance / speed\n",
    "    return result\n",
    "print(get_time(45, 0))"
   ]
  },
  {
   "cell_type": "code",
   "execution_count": 31,
   "metadata": {},
   "outputs": [
    {
     "name": "stdout",
     "output_type": "stream",
     "text": [
      "9.0\n"
     ]
    }
   ],
   "source": [
    "def root (value, n = 2):\n",
    "    result = value ** (1 / n)\n",
    "    return result\n",
    "print(root(81))\n",
    "\n",
    "\n",
    "\n",
    "\n",
    "\n"
   ]
  },
  {
   "cell_type": "code",
   "execution_count": 33,
   "metadata": {},
   "outputs": [
    {
     "ename": "ValueError",
     "evalue": "Invalid Mark!",
     "output_type": "error",
     "traceback": [
      "\u001b[1;31m---------------------------------------------------------------------------\u001b[0m",
      "\u001b[1;31mValueError\u001b[0m                                Traceback (most recent call last)",
      "Cell \u001b[1;32mIn[33], line 9\u001b[0m\n\u001b[0;32m      7\u001b[0m         journal[name] \u001b[38;5;241m=\u001b[39m mark\n\u001b[0;32m      8\u001b[0m         \u001b[38;5;28;01mreturn\u001b[39;00m journal\n\u001b[1;32m----> 9\u001b[0m \u001b[38;5;28mprint\u001b[39m(\u001b[43madd_mark\u001b[49m\u001b[43m(\u001b[49m\u001b[38;5;124;43m'\u001b[39;49m\u001b[38;5;124;43mIvanov\u001b[39;49m\u001b[38;5;124;43m'\u001b[39;49m\u001b[43m,\u001b[49m\u001b[43m \u001b[49m\u001b[38;5;241;43m8\u001b[39;49m\u001b[43m)\u001b[49m)\n",
      "Cell \u001b[1;32mIn[33], line 3\u001b[0m, in \u001b[0;36madd_mark\u001b[1;34m(name, mark, journal)\u001b[0m\n\u001b[0;32m      1\u001b[0m \u001b[38;5;28;01mdef\u001b[39;00m \u001b[38;5;21madd_mark\u001b[39m(name, mark, journal\u001b[38;5;241m=\u001b[39m\u001b[38;5;28;01mNone\u001b[39;00m):\n\u001b[0;32m      2\u001b[0m     \u001b[38;5;28;01mif\u001b[39;00m mark \u001b[38;5;241m<\u001b[39m \u001b[38;5;241m2\u001b[39m \u001b[38;5;129;01mor\u001b[39;00m mark \u001b[38;5;241m>\u001b[39m \u001b[38;5;241m5\u001b[39m: \n\u001b[1;32m----> 3\u001b[0m         \u001b[38;5;28;01mraise\u001b[39;00m \u001b[38;5;167;01mValueError\u001b[39;00m (\u001b[38;5;124m\"\u001b[39m\u001b[38;5;124mInvalid Mark!\u001b[39m\u001b[38;5;124m\"\u001b[39m)\n\u001b[0;32m      4\u001b[0m     \u001b[38;5;28;01melse\u001b[39;00m:\n\u001b[0;32m      5\u001b[0m         \u001b[38;5;28;01mif\u001b[39;00m journal \u001b[38;5;129;01mis\u001b[39;00m \u001b[38;5;28;01mNone\u001b[39;00m:\n",
      "\u001b[1;31mValueError\u001b[0m: Invalid Mark!"
     ]
    }
   ],
   "source": [
    "def add_mark(name, mark, journal=None):\n",
    "    if mark < 2 or mark > 5: \n",
    "        raise ValueError (\"Invalid Mark!\")\n",
    "    else:\n",
    "        if journal is None:\n",
    "            journal = {}\n",
    "        journal[name] = mark\n",
    "        return journal\n",
    "print(add_mark('Ivanov', 8))"
   ]
  },
  {
   "cell_type": "code",
   "execution_count": 4,
   "metadata": {},
   "outputs": [
    {
     "name": "stdout",
     "output_type": "stream",
     "text": [
      "Root of power 2 from 2354 equals 48.518037882832814\n",
      "48.518037882832814\n"
     ]
    }
   ],
   "source": [
    "def root(value, n=2, verbose=False):\n",
    "    result = value ** (1/n)\n",
    "    if verbose:\n",
    "        # Аргументы в функции print,\n",
    "        # перечисленные через запятую,\n",
    "        # печатаются через пробел\n",
    "        print('Root of power', n, 'from',\n",
    "            value, 'equals', result)\n",
    "    return result\n",
    "# print(root(2354, 5, True))\n",
    "# print(root(2354, 5))\n",
    "print(root(2354, verbose=True))"
   ]
  },
  {
   "cell_type": "code",
   "execution_count": 13,
   "metadata": {},
   "outputs": [
    {
     "name": "stdout",
     "output_type": "stream",
     "text": [
      "Shopping list: - bread butter eggs\n"
     ]
    }
   ],
   "source": [
    "print(\"Shopping list:\", end=' - ')\n",
    "print(\"bread\", \"butter\", \"eggs\", sep = ' ')\n",
    "# Будет напечатано:\n",
    "# Shopping list: bread butter eggs"
   ]
  },
  {
   "cell_type": "code",
   "execution_count": 7,
   "metadata": {},
   "outputs": [
    {
     "name": "stdout",
     "output_type": "stream",
     "text": [
      "11.909090909090908\n"
     ]
    }
   ],
   "source": [
    "def mean(*args):\n",
    "    result = sum(args)/ len (args)\n",
    "    return result\n",
    "print(mean(1,5,7,3,12,6,78,5,3,2,9))"
   ]
  },
  {
   "cell_type": "code",
   "execution_count": 21,
   "metadata": {},
   "outputs": [
    {
     "name": "stdout",
     "output_type": "stream",
     "text": [
      "vasia: 3.0\n",
      "petja: 3.5\n"
     ]
    }
   ],
   "source": [
    "def mean_mark(name, *marks):\n",
    "    result = sum(marks)/ len(marks)\n",
    "    print(name + ':', result)\n",
    "mean_mark('vasia', 5,4,2,1)\n",
    "mean_mark('petja', 3,2,4,5)\n",
    "\n",
    "\n"
   ]
  },
  {
   "cell_type": "code",
   "execution_count": 13,
   "metadata": {},
   "outputs": [
    {
     "name": "stdout",
     "output_type": "stream",
     "text": [
      "150\n"
     ]
    }
   ],
   "source": [
    "# Введите свое решение ниже\n",
    "def mult(*args):\n",
    "    result = 1\n",
    "    for i in args:\n",
    "        result *= i\n",
    "    return result\n",
    "print(mult(3,5,10))"
   ]
  },
  {
   "cell_type": "code",
   "execution_count": 15,
   "metadata": {},
   "outputs": [
    {
     "name": "stdout",
     "output_type": "stream",
     "text": [
      "Python, SQL, Machine Learning, Statistics\n"
     ]
    }
   ],
   "source": [
    "langs = ['Python', 'SQL', 'Machine Learning', 'Statistics']\n",
    "print(*langs, sep = ', ')"
   ]
  },
  {
   "cell_type": "code",
   "execution_count": 24,
   "metadata": {},
   "outputs": [
    {
     "name": "stdout",
     "output_type": "stream",
     "text": [
      "Kuznetsov: 4.454545454545454\n",
      "None\n"
     ]
    }
   ],
   "source": [
    "def mean_mark(name, *marks):\n",
    "    result = sum(marks)/ len(marks)\n",
    "    print(name + ':', result)\n",
    "marks = [4,5,5,5,5,3,4,4,5,4,5]\n",
    "print(mean_mark('Kuznetsov', *marks))"
   ]
  },
  {
   "cell_type": "code",
   "execution_count": 25,
   "metadata": {},
   "outputs": [
    {
     "name": "stdout",
     "output_type": "stream",
     "text": [
      "Week schedule:\n",
      "monday - Python\n",
      "tuesday - SQL\n",
      "friday - ML\n"
     ]
    }
   ],
   "source": [
    "def schedule(**kwargs):\n",
    "    print(\"Week schedule:\")\n",
    "    for key in kwargs:\n",
    "        print(key, kwargs[key], sep=' - ')\n",
    " \n",
    "schedule(monday='Python', tuesday='SQL', friday= 'ML')\n",
    "# Будет напечатано:\n",
    "# Week schedule:\n",
    "# monday — Python\n",
    "# tuesday — SQL\n",
    "# friday — ML"
   ]
  },
  {
   "cell_type": "code",
   "execution_count": 26,
   "metadata": {},
   "outputs": [
    {
     "name": "stdout",
     "output_type": "stream",
     "text": [
      "Week schedule:\n",
      "Wednesday - Maths\n",
      "Thursday - SQL\n",
      "Friday - Statistics\n"
     ]
    }
   ],
   "source": [
    "lessons = {\n",
    "    'Wednesday': 'Maths',\n",
    "    'Thursday': 'SQL',\n",
    "    'Friday': 'Statistics'\n",
    "}\n",
    "# Использовали оператор ** для распаковки словаря в набор\n",
    "# значений именованных аргументов\n",
    "schedule(**lessons)"
   ]
  },
  {
   "cell_type": "code",
   "execution_count": 27,
   "metadata": {},
   "outputs": [
    {
     "name": "stdout",
     "output_type": "stream",
     "text": [
      "1, 4, 6, 8; 12, 45, 56, 190, 111; Python, Functions; "
     ]
    }
   ],
   "source": [
    "list1 = [1,4,6,8]\n",
    "list2 = [12, 45, 56, 190, 111]\n",
    "list3 = ['Python', 'Functions']\n",
    " \n",
    "# Один раз запишем в словарь параметры для печати\n",
    "# через print: разделитель — запятая,\n",
    "# окончание строки — точка с запятой\n",
    "how = {'sep': ', ', 'end': '; '}\n",
    " \n",
    "# Распаковываем и список, и словарь how\n",
    "print(*list1, **how)\n",
    "print(*list2, **how)\n",
    "print(*list3, **how)\n",
    " "
   ]
  },
  {
   "cell_type": "code",
   "execution_count": 1,
   "metadata": {},
   "outputs": [
    {
     "name": "stdout",
     "output_type": "stream",
     "text": [
      "((1, 5, 6, 7), {'name': 'Ivan', 'age': 25})\n"
     ]
    }
   ],
   "source": [
    "full_func = lambda *args, **kwargs: (args, kwargs)\n",
    " \n",
    "print(full_func(1,5,6,7,name='Ivan', age=25))"
   ]
  },
  {
   "cell_type": "code",
   "execution_count": 6,
   "metadata": {},
   "outputs": [
    {
     "name": "stdout",
     "output_type": "stream",
     "text": [
      "divided by 3\n"
     ]
    }
   ],
   "source": [
    "scary_func = lambda num: 'divided by 2 and 3' \\\n",
    "    if num % 6 == 0 \\\n",
    "    else 'divided by 2' if num % 2 == 0 \\\n",
    "    else 'divided by 3' if num % 3 == 0 \\\n",
    "    else 'not divided by 2 or 3'\n",
    "print(scary_func(33))"
   ]
  },
  {
   "cell_type": "code",
   "execution_count": 7,
   "metadata": {},
   "outputs": [
    {
     "name": "stdout",
     "output_type": "stream",
     "text": [
      "9.055385138137417\n"
     ]
    }
   ],
   "source": [
    "hyp = lambda a,b : (a**2 + b**2) ** (1/2)\n",
    "print(hyp(1,9))"
   ]
  },
  {
   "cell_type": "code",
   "execution_count": 14,
   "metadata": {},
   "outputs": [
    {
     "name": "stdout",
     "output_type": "stream",
     "text": [
      "Mike\n"
     ]
    }
   ],
   "source": [
    "best_student = lambda **name: sorted(name.items(), key=lambda x: x[1], reverse = False)[0][0]\n",
    "print(best_student(Tom=12, Mike=3, Ler= 55))"
   ]
  },
  {
   "cell_type": "code",
   "execution_count": 54,
   "metadata": {},
   "outputs": [
    {
     "name": "stdout",
     "output_type": "stream",
     "text": [
      "Mike\n"
     ]
    }
   ],
   "source": [
    "def best_student(**students):\n",
    "    best_name = None\n",
    "    best_rating = None\n",
    "    for (student, rating) in students.items():\n",
    "        if best_name is None:\n",
    "            best_name = student\n",
    "            best_rating = rating\n",
    "        if rating < best_rating:\n",
    "            best_rating = rating\n",
    "            best_name = student\n",
    "    return best_name\n",
    "print(best_student(Tom=12, Mike=3, Ler= 55))"
   ]
  },
  {
   "cell_type": "code",
   "execution_count": 57,
   "metadata": {},
   "outputs": [
    {
     "name": "stdout",
     "output_type": "stream",
     "text": [
      "True\n"
     ]
    }
   ],
   "source": [
    "is_palindrom = lambda x: x == x[::-1]\n",
    "print(is_palindrom('123321'))\n",
    "# print(is_palindrom('12321'))"
   ]
  },
  {
   "cell_type": "code",
   "execution_count": 9,
   "metadata": {},
   "outputs": [
    {
     "name": "stdout",
     "output_type": "stream",
     "text": [
      "['dg', 'Acc', 'abc', 'Rg']\n",
      "['abc', 'Acc', 'dg', 'Rg']\n"
     ]
    }
   ],
   "source": [
    "\n",
    "def sort_ignore_case(ls):\n",
    "    print(ls)\n",
    "\n",
    "    return sorted(ls, key =lambda s: s.casefold())\n",
    "    \n",
    "print(sort_ignore_case(['dg','Acc', 'abc', 'Rg']))"
   ]
  },
  {
   "cell_type": "code",
   "execution_count": 10,
   "metadata": {},
   "outputs": [
    {
     "name": "stdout",
     "output_type": "stream",
     "text": [
      "['abc', 'Acc', 'dg', 'Rg']\n"
     ]
    }
   ],
   "source": [
    "def sort_ignore_case(ls):\n",
    "    ls.sort(key=str.lower)\n",
    "    return ls\n",
    "    \n",
    "print(sort_ignore_case(['dg','Acc', 'abc', 'Rg']))"
   ]
  },
  {
   "cell_type": "code",
   "execution_count": 1,
   "metadata": {},
   "outputs": [
    {
     "name": "stdout",
     "output_type": "stream",
     "text": [
      "None\n"
     ]
    }
   ],
   "source": [
    "# не работает код\n",
    "sort_ignore_case = lambda ls: ls.sort(key= str.lower)\n",
    "print(sort_ignore_case(['dg','Acc', 'abc', 'Rg']))"
   ]
  },
  {
   "cell_type": "code",
   "execution_count": 4,
   "metadata": {},
   "outputs": [
    {
     "name": "stdout",
     "output_type": "stream",
     "text": [
      "['abc', 'Acc', 'dg', 'Rg']\n"
     ]
    }
   ],
   "source": [
    "\n",
    "sort_ignore_case = lambda ls: sorted(ls, key = lambda s: s.casefold())\n",
    "    \n",
    "    \n",
    "print(sort_ignore_case(['dg','Acc', 'abc', 'Rg']))\n"
   ]
  },
  {
   "cell_type": "code",
   "execution_count": 55,
   "metadata": {},
   "outputs": [
    {
     "ename": "ValueError",
     "evalue": "Too many arguments",
     "output_type": "error",
     "traceback": [
      "\u001b[1;31m---------------------------------------------------------------------------\u001b[0m",
      "\u001b[1;31mValueError\u001b[0m                                Traceback (most recent call last)",
      "Cell \u001b[1;32mIn[55], line 29\u001b[0m\n\u001b[0;32m     14\u001b[0m         \u001b[38;5;28;01mreturn\u001b[39;00m rub \u001b[38;5;241m/\u001b[39m rate     \n\u001b[0;32m     15\u001b[0m     \u001b[38;5;66;03m#elif bool(usd) == bool(rub) == bool(rate) is True:\u001b[39;00m\n\u001b[0;32m     16\u001b[0m         \u001b[38;5;66;03m# return 'ValueError: Too many arguments'\u001b[39;00m\n\u001b[0;32m     17\u001b[0m     \u001b[38;5;66;03m#elif bool(usd) == bool(rub) is False or  bool(rub) == bool(rate) is False or bool(usd) == bool(rate) is False:\u001b[39;00m\n\u001b[1;32m   (...)\u001b[0m\n\u001b[0;32m     26\u001b[0m \u001b[38;5;66;03m#print(exchange(rub=1000, rate=85))\u001b[39;00m\n\u001b[0;32m     27\u001b[0m \u001b[38;5;66;03m# 11.764705882352942\u001b[39;00m\n\u001b[1;32m---> 29\u001b[0m \u001b[38;5;28mprint\u001b[39m(\u001b[43mexchange\u001b[49m\u001b[43m(\u001b[49m\u001b[43mrub\u001b[49m\u001b[38;5;241;43m=\u001b[39;49m\u001b[38;5;241;43m1000\u001b[39;49m\u001b[43m,\u001b[49m\u001b[43m \u001b[49m\u001b[43mrate\u001b[49m\u001b[38;5;241;43m=\u001b[39;49m\u001b[38;5;241;43m85\u001b[39;49m\u001b[43m,\u001b[49m\u001b[43m \u001b[49m\u001b[43musd\u001b[49m\u001b[38;5;241;43m=\u001b[39;49m\u001b[38;5;241;43m90\u001b[39;49m\u001b[43m)\u001b[49m)\n\u001b[0;32m     30\u001b[0m \u001b[38;5;66;03m# ValueError: Too many arguments\u001b[39;00m\n\u001b[0;32m     31\u001b[0m \n\u001b[0;32m     32\u001b[0m \u001b[38;5;66;03m# print(exchange(rub=1000))\u001b[39;00m\n\u001b[0;32m     33\u001b[0m \u001b[38;5;66;03m# ValueError: Not enough arguments\u001b[39;00m\n",
      "Cell \u001b[1;32mIn[55], line 7\u001b[0m, in \u001b[0;36mexchange\u001b[1;34m(usd, rub, rate)\u001b[0m\n\u001b[0;32m      5\u001b[0m     \u001b[38;5;66;03m#return #'ValueError: Not enough arguments'\u001b[39;00m\n\u001b[0;32m      6\u001b[0m \u001b[38;5;28;01melif\u001b[39;00m \u001b[38;5;28mbool\u001b[39m(usd) \u001b[38;5;129;01mand\u001b[39;00m \u001b[38;5;28mbool\u001b[39m(rub) \u001b[38;5;129;01mand\u001b[39;00m \u001b[38;5;28mbool\u001b[39m(rate) \u001b[38;5;129;01mis\u001b[39;00m \u001b[38;5;28;01mTrue\u001b[39;00m:  \u001b[38;5;66;03m# если все аргументы есть - вызываем ошибку (слишком много аргументов)\u001b[39;00m\n\u001b[1;32m----> 7\u001b[0m     \u001b[38;5;28;01mraise\u001b[39;00m \u001b[38;5;167;01mValueError\u001b[39;00m(\u001b[38;5;124m'\u001b[39m\u001b[38;5;124mToo many arguments\u001b[39m\u001b[38;5;124m'\u001b[39m)    \n\u001b[0;32m      8\u001b[0m     \u001b[38;5;66;03m# return # 'ValueError: Too many arguments'\u001b[39;00m\n\u001b[0;32m      9\u001b[0m \u001b[38;5;28;01melif\u001b[39;00m rate \u001b[38;5;129;01mis\u001b[39;00m \u001b[38;5;28;01mNone\u001b[39;00m:\n",
      "\u001b[1;31mValueError\u001b[0m: Too many arguments"
     ]
    }
   ],
   "source": [
    "def exchange(usd=None, rub=None, rate=None):\n",
    "    if bool(usd) == bool(rub) is False or  bool(rub) == bool(rate) is False or bool(usd) == bool(rate) is False:\n",
    "        # если двух аргументов нет - вызываем ошибку (слишком мало аргументов)\n",
    "        raise ValueError('Not enough arguments')\n",
    "        #return #'ValueError: Not enough arguments'\n",
    "    elif bool(usd) and bool(rub) and bool(rate) is True:  # если все аргументы есть - вызываем ошибку (слишком много аргументов)\n",
    "        raise ValueError('Too many arguments')    \n",
    "        # return # 'ValueError: Too many arguments'\n",
    "    elif rate is None:\n",
    "        return rub/usd\n",
    "    elif rub is None:\n",
    "        return usd * rate\n",
    "    elif usd is None:\n",
    "        return rub / rate     \n",
    "    #elif bool(usd) == bool(rub) == bool(rate) is True:\n",
    "        # return 'ValueError: Too many arguments'\n",
    "    #elif bool(usd) == bool(rub) is False or  bool(rub) == bool(rate) is False or bool(usd) == bool(rate) is False:\n",
    "       # return 'ValueError: Not enough arguments'\n",
    "\n",
    "#print(exchange(usd=100, rub=8500))\n",
    "# 85.0\n",
    "\n",
    "#print(exchange(usd=100, rate=85))\n",
    "# 8500\n",
    "\n",
    "#print(exchange(rub=1000, rate=85))\n",
    "# 11.764705882352942\n",
    "\n",
    "print(exchange(rub=1000, rate=85, usd=90))\n",
    "# ValueError: Too many arguments\n",
    "\n",
    "# print(exchange(rub=1000))\n",
    "# ValueError: Not enough arguments"
   ]
  },
  {
   "cell_type": "code",
   "execution_count": 3,
   "metadata": {},
   "outputs": [
    {
     "name": "stdout",
     "output_type": "stream",
     "text": [
      "['cc', 'bbb', 'aaa', 'ababa', 'aaaaa']\n"
     ]
    }
   ],
   "source": [
    "\n",
    "def get_length(names):\n",
    "    names.sort(key = len)\n",
    "    return names\n",
    "    #ls.sort(key=str.lower)\n",
    "\n",
    "new_list = ['bbb', 'ababa','aaa', 'aaaaa',  'cc']\n",
    "# new_list.sort(key=get_length)\n",
    "print(get_length(new_list))\n",
    "# Должно быть напечатано:\n",
    "# ['cc', 'bbb', 'aaa', 'ababa', 'aaaaa']"
   ]
  },
  {
   "cell_type": "code",
   "execution_count": 5,
   "metadata": {},
   "outputs": [
    {
     "name": "stdout",
     "output_type": "stream",
     "text": [
      "Called outer function\n",
      "Called inner function\n",
      "None\n"
     ]
    }
   ],
   "source": [
    "# Объявляем внешнюю функцию outer()\n",
    "def outer():\n",
    "    # Печатаем информацию о вызове внешней функции\n",
    "    print('Called outer function')\n",
    "    # Объявляем внутреннюю функцию inner()\n",
    "    def inner():\n",
    "        # Печатаем информацию о вызове внутренней функции\n",
    "        print('Called inner function')\n",
    "    # Вызываем внутреннюю функцию inner()\n",
    "    inner()\n",
    "print(outer())"
   ]
  },
  {
   "cell_type": "code",
   "execution_count": 26,
   "metadata": {},
   "outputs": [
    {
     "name": "stdout",
     "output_type": "stream",
     "text": [
      "this is a simple string\n",
      "12\n"
     ]
    }
   ],
   "source": [
    "def get_count_unique_symbols(s):\n",
    "    s1 = s.lower()\n",
    "    return len(set(s1.replace(' ', '')))   \n",
    "print(get_count_unique_symbols('This is a simple string'))"
   ]
  },
  {
   "cell_type": "code",
   "execution_count": 38,
   "metadata": {},
   "outputs": [
    {
     "name": "stdout",
     "output_type": "stream",
     "text": [
      "Это простая строка\n",
      "('школа', 'school')\n"
     ]
    }
   ],
   "source": [
    "## Введите свое решение ниже\n",
    "def get_min_string(s1, s2):\n",
    "    def get_count_unique_symbols(s):\n",
    "        s_lower = s.lower()\n",
    "        return len(set(s_lower.replace(' ', '')))   \n",
    "    s1_len = get_count_unique_symbols(s1)\n",
    "    s2_len = get_count_unique_symbols(s2)\n",
    "    if s1_len > s2_len:\n",
    "        return s2\n",
    "    elif s1_len == s2_len:\n",
    "        return (s1, s2)\n",
    "    else:\n",
    "        return s1\n",
    "print(get_min_string(s1='Это простая строка', s2='This is a simple string'))\n",
    "\n",
    "print(get_min_string(s1='школа', s2='school'))"
   ]
  },
  {
   "cell_type": "code",
   "execution_count": 40,
   "metadata": {},
   "outputs": [
    {
     "name": "stdout",
     "output_type": "stream",
     "text": [
      "78.53999999999999\n",
      "23.561999999999998\n"
     ]
    }
   ],
   "source": [
    "pi = 3.1416\n",
    "def calculate_area_circle(r):\n",
    "    area = pi * r**2\n",
    "    return area\n",
    "\n",
    "def calculate_area_ellipse(a, b):\n",
    "    area = pi * a * b\n",
    "    return area\n",
    "   \n",
    "\n",
    "print(calculate_area_circle(r=5))\n",
    "\n",
    "print(calculate_area_ellipse(a=3, b=2.5))"
   ]
  },
  {
   "cell_type": "code",
   "execution_count": 3,
   "metadata": {},
   "outputs": [
    {
     "name": "stdout",
     "output_type": "stream",
     "text": [
      "140728571020824\n",
      "140728571017944\n"
     ]
    }
   ],
   "source": [
    "# Объявляем глобальную переменную\n",
    "count = 10\n",
    "def function():\n",
    "    # Объявляем локальную переменную count\n",
    "    count = 100\n",
    "    print(id(count))\n",
    "# Вызываем функцию    \n",
    "function()\n",
    "# Смотрим, изменилась ли переменная count\n",
    "print(id(count))"
   ]
  },
  {
   "cell_type": "code",
   "execution_count": 6,
   "metadata": {},
   "outputs": [
    {
     "name": "stdout",
     "output_type": "stream",
     "text": [
      "['quux', 'bar', 'baz']\n"
     ]
    }
   ],
   "source": [
    "# Объявляем глобальную переменную\n",
    "words_list = ['foo', 'bar', 'baz']\n",
    "def function():\n",
    "    # Изменяем элемент списка\n",
    "    words_list[0] = 'quux'\n",
    "# Вызываем функцию\n",
    "function()\n",
    "print(words_list)\n"
   ]
  },
  {
   "cell_type": "code",
   "execution_count": 16,
   "metadata": {},
   "outputs": [
    {
     "name": "stdout",
     "output_type": "stream",
     "text": [
      "6\n"
     ]
    }
   ],
   "source": [
    "c = -2\n",
    "\n",
    "def outer1(a, b):\n",
    "    global c\n",
    "   \n",
    "    d = a + b + c\n",
    "    return d\n",
    "print(outer1(a=5, b=3))\n",
    "\n"
   ]
  },
  {
   "cell_type": "code",
   "execution_count": 35,
   "metadata": {},
   "outputs": [
    {
     "name": "stdout",
     "output_type": "stream",
     "text": [
      "1\n"
     ]
    }
   ],
   "source": [
    "def add_item():\n",
    "    # Здесь мог бы быть код для добавления товара в базу данных\n",
    "    # Указываем, что global_count является глобальной переменной\n",
    "    global global_count\n",
    "    # Инициализируем глобальную переменную прямо внутри функции \n",
    "    global_count = 0\n",
    "    \n",
    "    # Увеличиваем общее количество товаров на 1\n",
    "    global_count = global_count + 1\n",
    "\n",
    "# Вызываем функцию add_item()\n",
    "add_item()\n",
    "# Напечатаем значение переменной global_count\n",
    "print(global_count)"
   ]
  },
  {
   "cell_type": "code",
   "execution_count": 40,
   "metadata": {},
   "outputs": [
    {
     "name": "stdout",
     "output_type": "stream",
     "text": [
      "300\n"
     ]
    }
   ],
   "source": [
    "num_students = 250\n",
    "\n",
    "def add_new_students(num_students, num_new):\n",
    "    # global num_students\n",
    "    num_students += num_new\n",
    "    return num_students\n",
    "num_students = add_new_students(num_students, 50)\n",
    "\n",
    "# add_new_students(50)\n",
    "print(num_students)"
   ]
  },
  {
   "cell_type": "code",
   "execution_count": 42,
   "metadata": {},
   "outputs": [
    {
     "name": "stdout",
     "output_type": "stream",
     "text": [
      "1136.3636363636363\n"
     ]
    }
   ],
   "source": [
    "## Введите свое решение ниже\n",
    "# Словарь с курсами валют (по отношению к рублю)\n",
    "currencies = {'USD': 74, 'EUR': 88, 'GBP': 98 , 'CHF': 82}\n",
    "# Общее количество денег на счету, которое нужно конвертировать\n",
    "money = 100000\n",
    "# Функция для конвертации валюты, аргумент - наименование валюты\n",
    "def convert(currency, money, val):\n",
    "    # Объявляем, что money - глобальная переменная\n",
    "   #  global money\n",
    "    # Производим конвертацию - делим количество денег на счету на соответствующий курс\n",
    "    money = money / currencies[val]\n",
    "    return money\n",
    "convert_money = convert(currencies, money, 'EUR')\n",
    "print(convert_money)"
   ]
  },
  {
   "cell_type": "code",
   "execution_count": 44,
   "metadata": {},
   "outputs": [
    {
     "name": "stdout",
     "output_type": "stream",
     "text": [
      "1136.3636363636363\n"
     ]
    }
   ],
   "source": [
    "## Введите свое решение ниже\n",
    "# Словарь с курсами валют (по отношению к рублю)\n",
    "currencies = {'USD': 74, 'EUR': 88, 'GBP': 98 , 'CHF': 82}\n",
    "# Общее количество денег на счету, которое нужно конвертировать\n",
    "money = 100000\n",
    "# Функция для конвертации валюты, аргумент - наименование валюты\n",
    "def convert(currencies, money, val):\n",
    "    # Объявляем, что money - глобальная переменная\n",
    "   #  global money\n",
    "    # Производим конвертацию - делим количество денег на счету на соответствующий курс\n",
    "    money = money / currencies[val]\n",
    "    return money\n",
    "convert_money = convert(currencies, money, 'EUR')\n",
    "print(convert_money)"
   ]
  },
  {
   "cell_type": "code",
   "execution_count": 46,
   "metadata": {},
   "outputs": [
    {
     "name": "stdout",
     "output_type": "stream",
     "text": [
      "1\n"
     ]
    }
   ],
   "source": [
    "def outer():\n",
    "    # Создадим переменную, относящуюся к внешней функции\n",
    "    enclosing_count = 0\n",
    "    # Внутренняя функция\n",
    "    def inner():\n",
    "        # nonlocal enclosing_count\n",
    "        # Прибавим 1 к enclosing_count\n",
    "        enclosing_count = enclosing_count + 1\n",
    "        # Напечатаем значение enclosing_count\n",
    "        print(enclosing_count)\n",
    "    # Запустим внутреннюю функцию из внешней\n",
    "    inner()\n",
    " \n",
    "# Запустим внешнюю функцию\n",
    "outer()"
   ]
  },
  {
   "cell_type": "code",
   "execution_count": 48,
   "metadata": {},
   "outputs": [
    {
     "ename": "ValueError",
     "evalue": "Некорректный формат скидки",
     "output_type": "error",
     "traceback": [
      "\u001b[1;31m---------------------------------------------------------------------------\u001b[0m",
      "\u001b[1;31mValueError\u001b[0m                                Traceback (most recent call last)",
      "Cell \u001b[1;32mIn[48], line 24\u001b[0m\n\u001b[0;32m     21\u001b[0m     \u001b[38;5;66;03m# Считаем итоговую стоимость и возвращаем её\u001b[39;00m\n\u001b[0;32m     22\u001b[0m     \u001b[38;5;66;03m# (стоимость — стоимость * скидка)     \u001b[39;00m\n\u001b[0;32m     23\u001b[0m     \u001b[38;5;28;01mreturn\u001b[39;00m cost \u001b[38;5;241m-\u001b[39m cost \u001b[38;5;241m*\u001b[39m sale\n\u001b[1;32m---> 24\u001b[0m \u001b[38;5;28mprint\u001b[39m(\u001b[43mcalculate_cost\u001b[49m\u001b[43m(\u001b[49m\u001b[38;5;241;43m1343\u001b[39;49m\u001b[43m,\u001b[49m\u001b[43m \u001b[49m\u001b[38;5;28;43;01mNone\u001b[39;49;00m\u001b[43m)\u001b[49m)\n",
      "Cell \u001b[1;32mIn[48], line 20\u001b[0m, in \u001b[0;36mcalculate_cost\u001b[1;34m(cost, sale)\u001b[0m\n\u001b[0;32m     18\u001b[0m         \u001b[38;5;28;01mraise\u001b[39;00m \u001b[38;5;167;01mValueError\u001b[39;00m(\u001b[38;5;124m\"\u001b[39m\u001b[38;5;124mНекорректный формат скидки\u001b[39m\u001b[38;5;124m\"\u001b[39m)\n\u001b[0;32m     19\u001b[0m \u001b[38;5;66;03m# Запускаем предобработку, прежде чем вычислить стоимость\u001b[39;00m\n\u001b[1;32m---> 20\u001b[0m \u001b[43mpreprocessing_sale\u001b[49m\u001b[43m(\u001b[49m\u001b[43m)\u001b[49m\n\u001b[0;32m     21\u001b[0m \u001b[38;5;66;03m# Считаем итоговую стоимость и возвращаем её\u001b[39;00m\n\u001b[0;32m     22\u001b[0m \u001b[38;5;66;03m# (стоимость — стоимость * скидка)     \u001b[39;00m\n\u001b[0;32m     23\u001b[0m \u001b[38;5;28;01mreturn\u001b[39;00m cost \u001b[38;5;241m-\u001b[39m cost \u001b[38;5;241m*\u001b[39m sale\n",
      "Cell \u001b[1;32mIn[48], line 18\u001b[0m, in \u001b[0;36mcalculate_cost.<locals>.preprocessing_sale\u001b[1;34m()\u001b[0m\n\u001b[0;32m     16\u001b[0m     \u001b[38;5;28;01mpass\u001b[39;00m\n\u001b[0;32m     17\u001b[0m \u001b[38;5;28;01melse\u001b[39;00m:\n\u001b[1;32m---> 18\u001b[0m     \u001b[38;5;28;01mraise\u001b[39;00m \u001b[38;5;167;01mValueError\u001b[39;00m(\u001b[38;5;124m\"\u001b[39m\u001b[38;5;124mНекорректный формат скидки\u001b[39m\u001b[38;5;124m\"\u001b[39m)\n",
      "\u001b[1;31mValueError\u001b[0m: Некорректный формат скидки"
     ]
    }
   ],
   "source": [
    "# Внешняя функция для вычисления итоговой стоимости\n",
    "def calculate_cost(cost, sale):\n",
    "    # Внутренняя функция для предобработки аргумента sale\n",
    "    def preprocessing_sale():\n",
    "        # Объявляем, что используем нелокальную переменную sale\n",
    "        nonlocal sale\n",
    "        # Если sale — строка\n",
    "        if type(sale) is str:\n",
    "            # Удаляем из строки '%', приводим к float и делим на 100\n",
    "            sale = float(sale.replace('%', '')) / 100\n",
    "        # Если sale — целое число\n",
    "        elif type(sale) is int:\n",
    "            # Делим его на 100 \n",
    "            sale = sale / 100\n",
    "        elif type(sale) is float:\n",
    "            pass\n",
    "        else:\n",
    "            raise ValueError(\"Некорректный формат скидки\")\n",
    "    # Запускаем предобработку, прежде чем вычислить стоимость\n",
    "    preprocessing_sale()\n",
    "    # Считаем итоговую стоимость и возвращаем её\n",
    "    # (стоимость — стоимость * скидка)     \n",
    "    return cost - cost * sale\n",
    "print(calculate_cost(1343, None))"
   ]
  },
  {
   "cell_type": "code",
   "execution_count": 49,
   "metadata": {},
   "outputs": [
    {
     "data": {
      "text/plain": [
       "2"
      ]
     },
     "execution_count": 49,
     "metadata": {},
     "output_type": "execute_result"
    }
   ],
   "source": [
    "def count_occurrences(s, symbol):\n",
    "    # Внутренняя функция для предобработки строки s\n",
    "    def preprocessing_s():\n",
    "        nonlocal s\n",
    "        # Удаляем пробелы из строки\n",
    "        s = s.replace(' ', '')\n",
    "        # Приводим строку к нижнему регистру\n",
    "        s = s.lower()\n",
    "    # Вызываем функцию для предобработки аргумента s\n",
    "    preprocessing_s()\n",
    "    # Считаем количество символов symbol в строке s и возвращаем результат\n",
    "    return s.count(symbol)\n",
    "count_occurrences('This is simple string', symbol='t')\n",
    "## 2"
   ]
  },
  {
   "cell_type": "code",
   "execution_count": 1,
   "metadata": {},
   "outputs": [
    {
     "name": "stdout",
     "output_type": "stream",
     "text": [
      "{'ютуб': 248, 'вк': 514, 'радио': 339}\n"
     ]
    }
   ],
   "source": [
    "advertising_campaigns = {'ютуб': [212, 248], 'вк': [514, 342], 'радио': [339, 125]}\n",
    "\n",
    "\n",
    "# Создаём новый пустой словарь  \n",
    "advertising_campaigns_max = {}  \n",
    "# Создаём цикл по ключам исходного словаря  \n",
    "for key in advertising_campaigns:  \n",
    "    # Вычисляем максимум в списке, лежащем по ключу key  \n",
    "    max_key = max(advertising_campaigns[key])  \n",
    "    # Добавляем максимум в новый словарь  \n",
    "    advertising_campaigns_max[key] = max_key\n",
    "print(advertising_campaigns_max)"
   ]
  },
  {
   "cell_type": "code",
   "execution_count": 14,
   "metadata": {},
   "outputs": [
    {
     "name": "stdout",
     "output_type": "stream",
     "text": [
      "dfgw356\n",
      "['dfgw356']\n",
      "мама мыла раму раму мыла мама\n",
      "['dfgw356', 'мама мыла раму раму мыла мама']\n",
      "hello  world\n",
      "['dfgw356', 'мама мыла раму раму мыла мама', 'hello  world']\n",
      "['dfgw356', 'мама мыла раму раму мыла мама', 'hello  world']\n"
     ]
    }
   ],
   "source": [
    "# Внешняя функция для обработки списка из строк\n",
    "def processing_list(answers):\n",
    "    # Внутренняя функция для выполнения обработки одного элемента списка\n",
    "    def preprocessing_answer(answer):\n",
    "        # Приводим к нижнему регистру\n",
    "        answer = answer.lower()\n",
    "        # Удаляем стоп-символы \n",
    "        stop_symbols = '\"#$%&\\'()*+,-./:;<=>?@[\\\\]^_`{|}~!'\n",
    "        # Создаём цикл по символам в строке\n",
    "        for sym in stop_symbols:\n",
    "            # Если стоп-символ есть в строке answer\n",
    "            if sym in answer:\n",
    "                # Заменяем стоп-символы в строке на пустые строки\n",
    "                answer = answer.replace(sym, '')\n",
    "        return answer\n",
    "    # Создаём пустой список, куда будем добавлять результаты\n",
    "    result = []\n",
    "    # Создаеём цикл по всем элементам списка\n",
    "    for answer in answers:\n",
    "         # Добавляем предобработанную строку в лог-список\n",
    "        print(preprocessing_answer(answer))\n",
    "        result.append(preprocessing_answer(answer))  \n",
    "        print(result)\n",
    "    return result\n",
    "print(processing_list(['DFGw356', 'Мама мыла раму, раму мыла мама', 'Hello & world!']))"
   ]
  },
  {
   "cell_type": "code",
   "execution_count": 5,
   "metadata": {},
   "outputs": [
    {
     "ename": "ValueError",
     "evalue": "Invalid Date!",
     "output_type": "error",
     "traceback": [
      "\u001b[1;31m---------------------------------------------------------------------------\u001b[0m",
      "\u001b[1;31mValueError\u001b[0m                                Traceback (most recent call last)",
      "Cell \u001b[1;32mIn[5], line 51\u001b[0m\n\u001b[0;32m     49\u001b[0m reg \u001b[38;5;241m=\u001b[39m register(\u001b[38;5;124m'\u001b[39m\u001b[38;5;124mPetrova\u001b[39m\u001b[38;5;124m'\u001b[39m, \u001b[38;5;124m'\u001b[39m\u001b[38;5;124mMaria\u001b[39m\u001b[38;5;124m'\u001b[39m, \u001b[38;5;124m'\u001b[39m\u001b[38;5;124m13.03.2003\u001b[39m\u001b[38;5;124m'\u001b[39m, \u001b[38;5;124m'\u001b[39m\u001b[38;5;124mIvanovna\u001b[39m\u001b[38;5;124m'\u001b[39m)\n\u001b[0;32m     50\u001b[0m reg \u001b[38;5;241m=\u001b[39m register(\u001b[38;5;124m'\u001b[39m\u001b[38;5;124mIvanov\u001b[39m\u001b[38;5;124m'\u001b[39m, \u001b[38;5;124m'\u001b[39m\u001b[38;5;124mSergej\u001b[39m\u001b[38;5;124m'\u001b[39m, \u001b[38;5;124m'\u001b[39m\u001b[38;5;124m24.09.1995\u001b[39m\u001b[38;5;124m'\u001b[39m, registry\u001b[38;5;241m=\u001b[39mreg)\n\u001b[1;32m---> 51\u001b[0m reg \u001b[38;5;241m=\u001b[39m \u001b[43mregister\u001b[49m\u001b[43m(\u001b[49m\u001b[38;5;124;43m'\u001b[39;49m\u001b[38;5;124;43mSmith\u001b[39;49m\u001b[38;5;124;43m'\u001b[39;49m\u001b[43m,\u001b[49m\u001b[43m \u001b[49m\u001b[38;5;124;43m'\u001b[39;49m\u001b[38;5;124;43mJohn\u001b[39;49m\u001b[38;5;124;43m'\u001b[39;49m\u001b[43m,\u001b[49m\u001b[43m \u001b[49m\u001b[38;5;124;43m'\u001b[39;49m\u001b[38;5;124;43m29.02.2003\u001b[39;49m\u001b[38;5;124;43m'\u001b[39;49m\u001b[43m,\u001b[49m\u001b[43m \u001b[49m\u001b[43mregistry\u001b[49m\u001b[38;5;241;43m=\u001b[39;49m\u001b[43mreg\u001b[49m\u001b[43m)\u001b[49m\n\u001b[0;32m     52\u001b[0m \u001b[38;5;28mprint\u001b[39m(reg)\n",
      "Cell \u001b[1;32mIn[5], line 44\u001b[0m, in \u001b[0;36mregister\u001b[1;34m(surname, name, date, middle_name, registry)\u001b[0m\n\u001b[0;32m     42\u001b[0m     registry \u001b[38;5;241m=\u001b[39m \u001b[38;5;28mlist\u001b[39m()\n\u001b[0;32m     43\u001b[0m \u001b[38;5;66;03m# Разделяем дату на составляющие\u001b[39;00m\n\u001b[1;32m---> 44\u001b[0m day, month, year \u001b[38;5;241m=\u001b[39m \u001b[43mpreprocessing_date\u001b[49m\u001b[43m(\u001b[49m\u001b[43mdate\u001b[49m\u001b[43m)\u001b[49m\n\u001b[0;32m     45\u001b[0m \u001b[38;5;66;03m# Добавляем данные в список\u001b[39;00m\n\u001b[0;32m     46\u001b[0m registry\u001b[38;5;241m.\u001b[39mappend((surname, name, middle_name, day, month, year))\n",
      "Cell \u001b[1;32mIn[5], line 36\u001b[0m, in \u001b[0;36mregister.<locals>.preprocessing_date\u001b[1;34m(date)\u001b[0m\n\u001b[0;32m     34\u001b[0m  \u001b[38;5;66;03m# если дата не верная, выбрасываем ошибку ValueError(\"Invalid Date!\") \u001b[39;00m\n\u001b[0;32m     35\u001b[0m \u001b[38;5;28;01mif\u001b[39;00m check_date(day, month, year) \u001b[38;5;129;01mis\u001b[39;00m \u001b[38;5;28;01mFalse\u001b[39;00m:\n\u001b[1;32m---> 36\u001b[0m     \u001b[38;5;28;01mraise\u001b[39;00m \u001b[38;5;167;01mValueError\u001b[39;00m(\u001b[38;5;124m\"\u001b[39m\u001b[38;5;124mInvalid Date!\u001b[39m\u001b[38;5;124m\"\u001b[39m)\n\u001b[0;32m     38\u001b[0m check_date(day, month, year)  \u001b[38;5;66;03m# проверка дат на корректность              \u001b[39;00m\n\u001b[0;32m     39\u001b[0m \u001b[38;5;28;01mreturn\u001b[39;00m day, month, year\n",
      "\u001b[1;31mValueError\u001b[0m: Invalid Date!"
     ]
    }
   ],
   "source": [
    "# Функция для регистрации пользователей\n",
    "def register(surname, name, date, middle_name=None, registry=None):\n",
    "    # Вспомогательная функция для предобработки даты\n",
    "    def preprocessing_date(date):        \n",
    "        # Разделяем строку по символу точки\n",
    "        day, month, year = date.split('.')\n",
    "        # Преобразуем все данные к типу данных int\n",
    "        day, month, year = int(day), int(month), int(year)\n",
    "        \n",
    "        def check_date(day, month, year):\n",
    "            # Проверяем день, месяц и год на целочисленность\n",
    "            if (type(day) is not int) or (type(month) is not int) or (type(year) is not int):\n",
    "                return False\n",
    "    # Проверяем год на заданный диапазон\n",
    "            if (year <= 1900) or (year >= 2025):\n",
    "                return False\n",
    "    # Проверяем месяц на заданный диапазон     \n",
    "            if (month < 1) or (month > 12):\n",
    "                return False\n",
    "    # Проверяем день на заданный диапазон  \n",
    "            if (day < 1) or (day > 31): \n",
    "                return False\n",
    "    # Проверяем апрель, июнь, сентябрь и ноябрь на количество дней\n",
    "            if (month in [4,6,9,11]) and (day > 30):\n",
    "                return False\n",
    "    # Проверяем количество дней в феврале с проверкой високостности года           \n",
    "            if (year % 4 == 0 and year % 100 != 0) or year % 400 == 0:\n",
    "                if month == 2 and day > 29:\n",
    "                    return False\n",
    "            else:\n",
    "                if month == 2 and day > 28:\n",
    "                    return False                \n",
    "            return True\n",
    "         # если дата не верная, выбрасываем ошибку ValueError(\"Invalid Date!\") \n",
    "        if check_date(day, month, year) is False:\n",
    "            raise ValueError(\"Invalid Date!\")\n",
    "\n",
    "        check_date(day, month, year)  # проверка дат на корректность              \n",
    "        return day, month, year\n",
    "    # Если список не был передан — создаём пустой список\n",
    "    if registry is None:\n",
    "        registry = list()\n",
    "    # Разделяем дату на составляющие\n",
    "    day, month, year = preprocessing_date(date)\n",
    "    # Добавляем данные в список\n",
    "    registry.append((surname, name, middle_name, day, month, year))\n",
    "    return registry\n",
    "\n",
    "reg = register('Petrova', 'Maria', '13.03.2003', 'Ivanovna')\n",
    "reg = register('Ivanov', 'Sergej', '24.09.1995', registry=reg)\n",
    "reg = register('Smith', 'John', '29.02.2004', registry=reg)\n",
    "print(reg)"
   ]
  },
  {
   "cell_type": "code",
   "execution_count": 1,
   "metadata": {},
   "outputs": [
    {
     "name": "stdout",
     "output_type": "stream",
     "text": [
      "\n",
      "True\n",
      "True\n",
      "False\n",
      "False\n",
      "False\n"
     ]
    }
   ],
   "source": [
    "# Введите свое решение ниже\n",
    "def check_date(day, month, year):\n",
    "    def is_leap(day, month, year):\n",
    "        if (type(day) is not int) or (type(month) is not int) or (type(year) is not int):\n",
    "                return False\n",
    "    # Проверяем год на заданный диапазон\n",
    "        if (year <= 1900) or (year >= 2025):\n",
    "            return False\n",
    "    # Проверяем месяц на заданный диапазон     \n",
    "        if (month < 1) or (month > 12):\n",
    "            return False\n",
    "    # Проверяем день на заданный диапазон  \n",
    "        if (day < 1) or (day > 31): \n",
    "            return False\n",
    "    # Проверяем апрель, июнь, сентябрь и ноябрь на количество дней\n",
    "        if (month in [4,6,9,11]) and (day > 30):\n",
    "            return False\n",
    "    # Проверяем количество дней в феврале            \n",
    "        if (year % 4 == 0 and year % 100 != 0) or year % 400 == 0:\n",
    "            if month == 2 and day > 29:\n",
    "                return False\n",
    "        else:\n",
    "            if month == 2 and day > 28:\n",
    "                return False                \n",
    "        return True\n",
    "    is_leap(day, month, year)\n",
    "    return is_leap(day, month, year)\n",
    "print()\n",
    "print(check_date(18, 9, 1999))\n",
    "# True\n",
    "print(check_date(29, 2, 2000))\n",
    "# True\n",
    "print(check_date(29, 2, 2021))\n",
    "# False\n",
    "print(check_date(13, 13, 2021))\n",
    "# False\n",
    "print(check_date(13.5, 12, 2021))\n",
    "# False"
   ]
  },
  {
   "cell_type": "code",
   "execution_count": null,
   "metadata": {},
   "outputs": [],
   "source": [
    "# проверка на сушествование треугольника по трем точкам\n",
    "def check_exist_triangle(a, b, c):\n",
    "    if (a+b>c) and (a+c>b) and (b+c >a):\n",
    "        return True\n",
    "    else:\n",
    "        return False"
   ]
  },
  {
   "cell_type": "code",
   "execution_count": 9,
   "metadata": {},
   "outputs": [
    {
     "name": "stdout",
     "output_type": "stream",
     "text": [
      "{'a': 2.1360009363293826, 'b': 2.692582403567252, 'c': 4.422951503238533, 'perimeter': 9.251534843135168, 'area': 2.1250000000000027}\n",
      "{'a': 3.0, 'b': 4.0, 'c': 5.0, 'perimeter': 12.0, 'area': 6.0}\n"
     ]
    },
    {
     "ename": "ValueError",
     "evalue": "Треугольник не существует",
     "output_type": "error",
     "traceback": [
      "\u001b[1;31m---------------------------------------------------------------------------\u001b[0m",
      "\u001b[1;31mValueError\u001b[0m                                Traceback (most recent call last)",
      "Cell \u001b[1;32mIn[9], line 39\u001b[0m\n\u001b[0;32m     37\u001b[0m \u001b[38;5;28mprint\u001b[39m(triangle(p1\u001b[38;5;241m=\u001b[39m(\u001b[38;5;241m1\u001b[39m, \u001b[38;5;241m1\u001b[39m), p2\u001b[38;5;241m=\u001b[39m(\u001b[38;5;241m1\u001b[39m, \u001b[38;5;241m4\u001b[39m), p3\u001b[38;5;241m=\u001b[39m(\u001b[38;5;241m5\u001b[39m, \u001b[38;5;241m1\u001b[39m)))\n\u001b[0;32m     38\u001b[0m \u001b[38;5;66;03m## {'a': 3.0, 'b': 4.0, 'c': 5.0, 'perimeter': 12.0, 'area': 6.0}\u001b[39;00m\n\u001b[1;32m---> 39\u001b[0m \u001b[38;5;28mprint\u001b[39m(\u001b[43mtriangle\u001b[49m\u001b[43m(\u001b[49m\u001b[43mp1\u001b[49m\u001b[38;5;241;43m=\u001b[39;49m\u001b[43m(\u001b[49m\u001b[38;5;241;43m2.5\u001b[39;49m\u001b[43m,\u001b[49m\u001b[43m \u001b[49m\u001b[38;5;241;43m2\u001b[39;49m\u001b[43m)\u001b[49m\u001b[43m,\u001b[49m\u001b[43m \u001b[49m\u001b[43mp2\u001b[49m\u001b[38;5;241;43m=\u001b[39;49m\u001b[43m(\u001b[49m\u001b[38;5;241;43m4\u001b[39;49m\u001b[43m,\u001b[49m\u001b[43m \u001b[49m\u001b[38;5;241;43m1\u001b[39;49m\u001b[43m)\u001b[49m\u001b[43m,\u001b[49m\u001b[43m \u001b[49m\u001b[43mp3\u001b[49m\u001b[38;5;241;43m=\u001b[39;49m\u001b[43m(\u001b[49m\u001b[38;5;241;43m1\u001b[39;49m\u001b[43m,\u001b[49m\u001b[43m \u001b[49m\u001b[38;5;241;43m3\u001b[39;49m\u001b[43m)\u001b[49m\u001b[43m)\u001b[49m)\n\u001b[0;32m     40\u001b[0m \u001b[38;5;66;03m## ValueError: Треугольник не существует\u001b[39;00m\n",
      "Cell \u001b[1;32mIn[9], line 28\u001b[0m, in \u001b[0;36mtriangle\u001b[1;34m(p1, p2, p3)\u001b[0m\n\u001b[0;32m     26\u001b[0m \u001b[38;5;66;03m# выбрасываем ошибку если треугольник не существует\u001b[39;00m\n\u001b[0;32m     27\u001b[0m \u001b[38;5;28;01mif\u001b[39;00m check_exist_triangle(a, b, c) \u001b[38;5;129;01mis\u001b[39;00m \u001b[38;5;28;01mFalse\u001b[39;00m:\n\u001b[1;32m---> 28\u001b[0m     \u001b[38;5;28;01mraise\u001b[39;00m \u001b[38;5;167;01mValueError\u001b[39;00m(\u001b[38;5;124m\"\u001b[39m\u001b[38;5;124mТреугольник не существует\u001b[39m\u001b[38;5;124m\"\u001b[39m)\n\u001b[0;32m     29\u001b[0m check_exist_triangle(a, b, c)\n\u001b[0;32m     30\u001b[0m perimeter \u001b[38;5;241m=\u001b[39m calculate_perimeter_triangle(a, b, c)\n",
      "\u001b[1;31mValueError\u001b[0m: Треугольник не существует"
     ]
    }
   ],
   "source": [
    "\n",
    "def triangle(p1,p2,p3):\n",
    "    x1 ,y1 = p1\n",
    "    x2, y2 = p2\n",
    "    x3, y3 = p3\n",
    "    # Вычисляум длины сторон треугольника по координатам точек\n",
    "    a = ((x2 - x1) ** 2 + (y2 - y1)** 2) ** 0.5\n",
    "    b = ((x3 - x1) ** 2 + (y3 - y1)** 2) ** 0.5\n",
    "    c = ((x3 - x2) ** 2 + (y3 - y2)** 2) ** 0.5\n",
    "    def calculate_perimeter_triangle(a, b, c):\n",
    "        # Периметр — сумма всех сторон треугольника\n",
    "        perimeter = a + b + c\n",
    "        return perimeter\n",
    "    def calculate_area_triangle(a, b, c):\n",
    "        # Вычисляем полупериметр \n",
    "        # Значение perimeter берётся из объемлющей области видимости\n",
    "        p = perimeter / 2\n",
    "        # Вычисляем площадь по формуле Герона\n",
    "        area = (p * (p - a) * (p - b) * (p - c)) ** 0.5\n",
    "        return area\n",
    "    # проверка на существование треугольника\n",
    "    def check_exist_triangle(a, b, c):\n",
    "        if (a+b>c) and (a+c>b) and (b+c >a):\n",
    "            return True\n",
    "        else:\n",
    "            return False\n",
    "    # выбрасываем ошибку если треугольник не существует\n",
    "    if check_exist_triangle(a, b, c) is False:\n",
    "        raise ValueError(\"Треугольник не существует\")\n",
    "    check_exist_triangle(a, b, c)\n",
    "    perimeter = calculate_perimeter_triangle(a, b, c)\n",
    "    area = calculate_area_triangle(a, b, c)\n",
    "    result = {'a': a, 'b': b, 'c': c, 'perimeter': perimeter, 'area': area}\n",
    "    return result\n",
    "\n",
    "print(triangle(p1=(2, 2), p2=(4, 1.25), p3=(1, 4.5)))\n",
    "## {'a': 2.1360009363293826, 'b': 2.692582403567252, 'c': 4.422951503238533, 'perimeter': 9.251534843135168, 'area': 2.1250000000000027}\n",
    "print(triangle(p1=(1, 1), p2=(1, 4), p3=(5, 1)))\n",
    "## {'a': 3.0, 'b': 4.0, 'c': 5.0, 'perimeter': 12.0, 'area': 6.0}\n",
    "print(triangle(p1=(2.5, 2), p2=(4, 1), p3=(1, 3)))\n",
    "## ValueError: Треугольник не существует"
   ]
  }
 ],
 "metadata": {
  "kernelspec": {
   "display_name": "Python 3",
   "language": "python",
   "name": "python3"
  },
  "language_info": {
   "codemirror_mode": {
    "name": "ipython",
    "version": 3
   },
   "file_extension": ".py",
   "mimetype": "text/x-python",
   "name": "python",
   "nbconvert_exporter": "python",
   "pygments_lexer": "ipython3",
   "version": "3.12.1"
  }
 },
 "nbformat": 4,
 "nbformat_minor": 2
}
